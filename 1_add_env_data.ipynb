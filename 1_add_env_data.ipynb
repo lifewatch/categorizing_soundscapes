{
 "cells": [
  {
   "cell_type": "markdown",
   "metadata": {
    "pycharm": {
     "name": "#%% md\n"
    }
   },
   "source": [
    "# Add environmental data\n",
    "This notebook is the code to add environmental data to the output of pypam\n",
    "For more information about this process please contact clea.parcerisas@vliz.be or check the documentation of both packages\n",
    "https://lifewatch-pypam.readthedocs.io/en/latest/\n",
    "https://github.com/lifewatch/bpnsdata"
   ]
  },
  {
   "cell_type": "code",
   "execution_count": 1,
   "metadata": {
    "pycharm": {
     "is_executing": true,
     "name": "#%%\n"
    }
   },
   "outputs": [
    {
     "name": "stdout",
     "output_type": "stream",
     "text": [
      "Collecting shapely==1.8.2\n",
      "  Using cached Shapely-1.8.2-cp39-cp39-win_amd64.whl (1.3 MB)\n",
      "Installing collected packages: shapely\n",
      "  Attempting uninstall: shapely\n",
      "    Found existing installation: Shapely 1.8.4\n",
      "    Uninstalling Shapely-1.8.4:\n",
      "      Successfully uninstalled Shapely-1.8.4\n",
      "Successfully installed shapely-1.8.2\n",
      "Requirement already satisfied: bpnsdata in c:\\users\\cleap\\envs\\sound-data-utils39\\lib\\site-packages (0.1.9)\n",
      "Requirement already satisfied: netcdf4 in c:\\users\\cleap\\envs\\sound-data-utils39\\lib\\site-packages (from bpnsdata) (1.6.2)\n",
      "Requirement already satisfied: tqdm in c:\\users\\cleap\\envs\\sound-data-utils39\\lib\\site-packages (from bpnsdata) (4.64.1)\n",
      "Requirement already satisfied: contextily in c:\\users\\cleap\\envs\\sound-data-utils39\\lib\\site-packages (from bpnsdata) (1.2.0)\n",
      "Requirement already satisfied: rioxarray in c:\\users\\cleap\\envs\\sound-data-utils39\\lib\\site-packages (from bpnsdata) (0.12.2)\n",
      "Requirement already satisfied: owslib in c:\\users\\cleap\\envs\\sound-data-utils39\\lib\\site-packages (from bpnsdata) (0.27.2)\n",
      "Requirement already satisfied: pygeos in c:\\users\\cleap\\envs\\sound-data-utils39\\lib\\site-packages (from bpnsdata) (0.13)\n",
      "Requirement already satisfied: skyfield in c:\\users\\cleap\\envs\\sound-data-utils39\\lib\\site-packages (from bpnsdata) (1.45)\n",
      "Requirement already satisfied: erddapy in c:\\users\\cleap\\envs\\sound-data-utils39\\lib\\site-packages (from bpnsdata) (1.2.1)\n",
      "Requirement already satisfied: geopandas in c:\\users\\cleap\\envs\\sound-data-utils39\\lib\\site-packages (from bpnsdata) (0.11.1)\n",
      "Requirement already satisfied: matplotlib in c:\\users\\cleap\\envs\\sound-data-utils39\\lib\\site-packages (from contextily->bpnsdata) (3.5.3)\n",
      "Requirement already satisfied: pillow in c:\\users\\cleap\\envs\\sound-data-utils39\\lib\\site-packages (from contextily->bpnsdata) (9.2.0)\n",
      "Requirement already satisfied: geopy in c:\\users\\cleap\\envs\\sound-data-utils39\\lib\\site-packages (from contextily->bpnsdata) (2.2.0)\n",
      "Requirement already satisfied: joblib in c:\\users\\cleap\\envs\\sound-data-utils39\\lib\\site-packages (from contextily->bpnsdata) (1.2.0)\n",
      "Requirement already satisfied: xyzservices in c:\\users\\cleap\\envs\\sound-data-utils39\\lib\\site-packages (from contextily->bpnsdata) (2022.9.0)\n",
      "Requirement already satisfied: requests in c:\\users\\cleap\\envs\\sound-data-utils39\\lib\\site-packages (from contextily->bpnsdata) (2.28.1)\n",
      "Requirement already satisfied: rasterio in c:\\users\\cleap\\envs\\sound-data-utils39\\lib\\site-packages (from contextily->bpnsdata) (1.2.10)\n",
      "Requirement already satisfied: mercantile in c:\\users\\cleap\\envs\\sound-data-utils39\\lib\\site-packages (from contextily->bpnsdata) (1.2.1)\n",
      "Requirement already satisfied: pandas>=0.20.3 in c:\\users\\cleap\\envs\\sound-data-utils39\\lib\\site-packages (from erddapy->bpnsdata) (1.5.0)\n",
      "Requirement already satisfied: pyproj>=2.6.1.post1 in c:\\users\\cleap\\envs\\sound-data-utils39\\lib\\site-packages (from geopandas->bpnsdata) (3.4.0)\n",
      "Requirement already satisfied: fiona>=1.8 in c:\\users\\cleap\\envs\\sound-data-utils39\\lib\\site-packages (from geopandas->bpnsdata) (1.8.21)\n",
      "Requirement already satisfied: packaging in c:\\users\\cleap\\envs\\sound-data-utils39\\lib\\site-packages (from geopandas->bpnsdata) (21.3)\n",
      "Requirement already satisfied: shapely<2,>=1.7 in c:\\users\\cleap\\envs\\sound-data-utils39\\lib\\site-packages (from geopandas->bpnsdata) (1.8.2)\n",
      "Requirement already satisfied: numpy>=1.9 in c:\\users\\cleap\\envs\\sound-data-utils39\\lib\\site-packages (from netcdf4->bpnsdata) (1.22.0)\n",
      "Requirement already satisfied: cftime in c:\\users\\cleap\\envs\\sound-data-utils39\\lib\\site-packages (from netcdf4->bpnsdata) (1.6.2)\n",
      "Requirement already satisfied: pytz in c:\\users\\cleap\\envs\\sound-data-utils39\\lib\\site-packages (from owslib->bpnsdata) (2022.4)\n",
      "Requirement already satisfied: python-dateutil>=1.5 in c:\\users\\cleap\\envs\\sound-data-utils39\\lib\\site-packages (from owslib->bpnsdata) (2.8.2)\n",
      "Requirement already satisfied: pyyaml in c:\\users\\cleap\\envs\\sound-data-utils39\\lib\\site-packages (from owslib->bpnsdata) (6.0)\n",
      "Requirement already satisfied: xarray>=0.17 in c:\\users\\cleap\\envs\\sound-data-utils39\\lib\\site-packages (from rioxarray->bpnsdata) (2022.9.0)\n",
      "Requirement already satisfied: certifi>=2017.4.17 in c:\\users\\cleap\\envs\\sound-data-utils39\\lib\\site-packages (from skyfield->bpnsdata) (2022.9.24)\n",
      "Requirement already satisfied: jplephem>=2.13 in c:\\users\\cleap\\envs\\sound-data-utils39\\lib\\site-packages (from skyfield->bpnsdata) (2.18)\n",
      "Requirement already satisfied: sgp4>=2.2 in c:\\users\\cleap\\envs\\sound-data-utils39\\lib\\site-packages (from skyfield->bpnsdata) (2.21)\n",
      "Requirement already satisfied: colorama in c:\\users\\cleap\\envs\\sound-data-utils39\\lib\\site-packages (from tqdm->bpnsdata) (0.4.5)\n",
      "Requirement already satisfied: click-plugins>=1.0 in c:\\users\\cleap\\envs\\sound-data-utils39\\lib\\site-packages (from fiona>=1.8->geopandas->bpnsdata) (1.1.1)\n",
      "Requirement already satisfied: gdal~=3.4.1 in c:\\users\\cleap\\envs\\sound-data-utils39\\lib\\site-packages (from fiona>=1.8->geopandas->bpnsdata) (3.4.3)\n",
      "Requirement already satisfied: click>=4.0 in c:\\users\\cleap\\envs\\sound-data-utils39\\lib\\site-packages (from fiona>=1.8->geopandas->bpnsdata) (8.1.3)\n",
      "Requirement already satisfied: setuptools in c:\\users\\cleap\\envs\\sound-data-utils39\\lib\\site-packages (from fiona>=1.8->geopandas->bpnsdata) (59.8.0)\n",
      "Requirement already satisfied: six>=1.7 in c:\\users\\cleap\\envs\\sound-data-utils39\\lib\\site-packages (from fiona>=1.8->geopandas->bpnsdata) (1.16.0)\n",
      "Requirement already satisfied: cligj>=0.5 in c:\\users\\cleap\\envs\\sound-data-utils39\\lib\\site-packages (from fiona>=1.8->geopandas->bpnsdata) (0.7.2)\n",
      "Requirement already satisfied: munch in c:\\users\\cleap\\envs\\sound-data-utils39\\lib\\site-packages (from fiona>=1.8->geopandas->bpnsdata) (2.5.0)\n",
      "Requirement already satisfied: attrs>=17 in c:\\users\\cleap\\envs\\sound-data-utils39\\lib\\site-packages (from fiona>=1.8->geopandas->bpnsdata) (22.1.0)\n",
      "Requirement already satisfied: snuggs>=1.4.1 in c:\\users\\cleap\\envs\\sound-data-utils39\\lib\\site-packages (from rasterio->contextily->bpnsdata) (1.4.7)\n",
      "Requirement already satisfied: affine in c:\\users\\cleap\\envs\\sound-data-utils39\\lib\\site-packages (from rasterio->contextily->bpnsdata) (2.3.1)\n",
      "Requirement already satisfied: urllib3<1.27,>=1.21.1 in c:\\users\\cleap\\envs\\sound-data-utils39\\lib\\site-packages (from requests->contextily->bpnsdata) (1.26.12)\n",
      "Requirement already satisfied: charset-normalizer<3,>=2 in c:\\users\\cleap\\envs\\sound-data-utils39\\lib\\site-packages (from requests->contextily->bpnsdata) (2.1.1)\n",
      "Requirement already satisfied: idna<4,>=2.5 in c:\\users\\cleap\\envs\\sound-data-utils39\\lib\\site-packages (from requests->contextily->bpnsdata) (3.4)\n",
      "Requirement already satisfied: pyparsing!=3.0.5,>=2.0.2 in c:\\users\\cleap\\envs\\sound-data-utils39\\lib\\site-packages (from packaging->geopandas->bpnsdata) (3.0.9)\n",
      "Requirement already satisfied: geographiclib<2,>=1.49 in c:\\users\\cleap\\envs\\sound-data-utils39\\lib\\site-packages (from geopy->contextily->bpnsdata) (1.52)\n",
      "Requirement already satisfied: kiwisolver>=1.0.1 in c:\\users\\cleap\\envs\\sound-data-utils39\\lib\\site-packages (from matplotlib->contextily->bpnsdata) (1.4.4)\n",
      "Requirement already satisfied: fonttools>=4.22.0 in c:\\users\\cleap\\envs\\sound-data-utils39\\lib\\site-packages (from matplotlib->contextily->bpnsdata) (4.37.4)\n",
      "Requirement already satisfied: cycler>=0.10 in c:\\users\\cleap\\envs\\sound-data-utils39\\lib\\site-packages (from matplotlib->contextily->bpnsdata) (0.11.0)\n",
      "Requirement already satisfied: pygeos in c:\\users\\cleap\\envs\\sound-data-utils39\\lib\\site-packages (0.13)\n",
      "Requirement already satisfied: numpy>=1.13 in c:\\users\\cleap\\envs\\sound-data-utils39\\lib\\site-packages (from pygeos) (1.22.0)\n"
     ]
    }
   ],
   "source": [
    "# Install the required packages. Geopandas can give problems in Windows machines, so better to install them using wheels when using Windows\n",
    "import sys\n",
    "!{sys.executable} -m pip install shapely==1.8.2\n",
    "!{sys.executable} -m pip install bpnsdata\n",
    "!{sys.executable} -m pip install pygeos"
   ]
  },
  {
   "cell_type": "code",
   "execution_count": 2,
   "metadata": {
    "pycharm": {
     "is_executing": true,
     "name": "#%%\n"
    }
   },
   "outputs": [
    {
     "name": "stderr",
     "output_type": "stream",
     "text": [
      "C:\\Users\\cleap\\Envs\\sound-data-utils39\\lib\\site-packages\\geopandas\\_compat.py:112: UserWarning: The Shapely GEOS version (3.10.2-CAPI-1.16.0) is incompatible with the GEOS version PyGEOS was compiled with (3.10.3-CAPI-1.16.1). Conversions between both will be slow.\n",
      "  warnings.warn(\n"
     ]
    }
   ],
   "source": [
    "import os\n",
    "import pathlib\n",
    "import os\n",
    "\n",
    "import geopandas\n",
    "import numpy as np\n",
    "import pandas as pd\n",
    "import xarray\n",
    "from tqdm import tqdm\n",
    "\n",
    "import bpnsdata"
   ]
  },
  {
   "cell_type": "code",
   "execution_count": 3,
   "metadata": {
    "pycharm": {
     "name": "#%%\n"
    }
   },
   "outputs": [],
   "source": [
    "raw_data_path = pathlib.Path('./data/raw_data')\n",
    "processed_data_path = pathlib.Path('./data/processed')\n",
    "metadata_path = raw_data_path.joinpath('data_summary_mda.csv')\n",
    "metadata = pd.read_csv(metadata_path)\n",
    "\n",
    "if not processed_data_path.exists():\n",
    "    os.mkdir(processed_data_path)\n",
    "\n",
    "# survey_params\n",
    "binsize = 1.0\n",
    "n_join_bins = 5\n",
    "join_bins_overlap = 0.6\n",
    "\n",
    "env_vars = [\n",
    "\t\t\"shipping\",\n",
    "\t\t\"time\",\n",
    "\t\t\"habitat_suitability\",\n",
    "\t\t\"seabed_habitat\",\n",
    "\t\t\"sea_surface\",\n",
    "\t\t\"sea_wave\",\n",
    "\t\t\"wrakken_bank\",\n",
    "\t\t\"bathymetry\"\n",
    "    ]"
   ]
  },
  {
   "cell_type": "code",
   "execution_count": 4,
   "metadata": {
    "pycharm": {
     "name": "#%%\n"
    }
   },
   "outputs": [],
   "source": [
    "def group_ds(ds, binsize, n_join_bins=None, join_bins_overlap=None):\n",
    "    if n_join_bins not in [1, None]:\n",
    "        n_overlap = (1 - join_bins_overlap) * n_join_bins\n",
    "        if not n_overlap.is_integer():\n",
    "            print('Warning, the overlap percentage of bins is not an integer. It will be set to the closer integer')\n",
    "        n_overlap = int(n_overlap)\n",
    "        time_window = list((np.arange(0, n_join_bins)) * binsize)\n",
    "        grouped_id = 0\n",
    "        new_ds = xarray.Dataset()\n",
    "\n",
    "        for filename, file_ds in ds.groupby('file_path'):\n",
    "            start_groups_id = np.arange(file_ds.id.min(), file_ds.id.max(), n_overlap)\n",
    "            print('Grouping file %s' % filename)\n",
    "            for start_id_small_window in tqdm(start_groups_id, total=len(start_groups_id - 1), position=0, leave=True):\n",
    "                # Only add the windows that are complete!\n",
    "                if start_id_small_window + n_join_bins < file_ds.id.max():\n",
    "                    selected_ids = np.arange(start_id_small_window, start_id_small_window + n_join_bins)\n",
    "                    small_window = file_ds.sel(id=selected_ids)\n",
    "                    small_window = small_window.expand_dims('grouped_id')\n",
    "                    small_window = small_window.assign_coords({'time_window': ('id', time_window[:len(selected_ids)]),\n",
    "                                                               'grouped_id': [grouped_id]})\n",
    "                    small_window = small_window.swap_dims({'id': 'time_window'})\n",
    "\n",
    "                    if grouped_id == 0:\n",
    "                        new_ds = small_window\n",
    "                    else:\n",
    "                        new_ds = xarray.concat((new_ds, small_window), 'grouped_id')\n",
    "                    grouped_id += 1\n",
    "        new_ds = new_ds.assign_coords({'grouped_datetime': ('grouped_id', new_ds.sel(time_window=0.0).datetime.values),\n",
    "                                       'grouped_start_sample': ('grouped_id',\n",
    "                                                                new_ds.sel(time_window=0.0).start_sample.values),\n",
    "                                       'grouped_end_sample': ('grouped_id',\n",
    "                                                              new_ds.sel(time_window=time_window[-1]).end_sample.values)\n",
    "                                       })\n",
    "        ds = new_ds\n",
    "    return ds"
   ]
  },
  {
   "cell_type": "code",
   "execution_count": null,
   "metadata": {
    "pycharm": {
     "name": "#%%\n"
    }
   },
   "outputs": [
    {
     "name": "stderr",
     "output_type": "stream",
     "text": [
      "\r",
      "  0%|          | 0/67 [00:00<?, ?it/s]"
     ]
    },
    {
     "name": "stdout",
     "output_type": "stream",
     "text": [
      "data\\processed\\0_Heinkel 111_env.nc\n",
      "Grouping file \\\\qarchive\\data_sensors\\b&k\\COVID-19\\20200429_Zeekat\\Heinkel 111\\200429095249_810_mono1.wav\n"
     ]
    },
    {
     "name": "stderr",
     "output_type": "stream",
     "text": [
      "100%|██████████| 1532/1532 [00:16<00:00, 92.72it/s]\n"
     ]
    },
    {
     "name": "stdout",
     "output_type": "stream",
     "text": [
      "Heinkel 111 1529 1529\n",
      "Adding shipping...\n"
     ]
    },
    {
     "name": "stderr",
     "output_type": "stream",
     "text": [
      "\n",
      "  0%|          | 0/1 [00:00<?, ?it/s]\u001b[A\n",
      "100%|██████████| 1/1 [00:00<00:00,  2.63it/s]\u001b[A"
     ]
    },
    {
     "name": "stdout",
     "output_type": "stream",
     "text": [
      "Adding time...\n"
     ]
    },
    {
     "name": "stderr",
     "output_type": "stream",
     "text": [
      "\n"
     ]
    },
    {
     "data": {
      "application/vnd.jupyter.widget-view+json": {
       "model_id": "d372208e37fe456a8f35c28050c2eec4",
       "version_major": 2,
       "version_minor": 0
      },
      "text/plain": [
       "  0%|          | 0/1529 [00:00<?, ?it/s]"
      ]
     },
     "metadata": {},
     "output_type": "display_data"
    },
    {
     "name": "stdout",
     "output_type": "stream",
     "text": [
      "Adding habitat_suitability...\n",
      "Adding seabed_habitat...\n",
      "Adding sea_surface...\n",
      "Adding sea_wave...\n",
      "Adding wrakken_bank...\n",
      "Adding bathymetry...\n"
     ]
    },
    {
     "name": "stderr",
     "output_type": "stream",
     "text": [
      "\r",
      "  1%|▏         | 1/67 [00:34<37:43, 34.29s/it]"
     ]
    },
    {
     "name": "stdout",
     "output_type": "stream",
     "text": [
      "data\\processed\\1_HMS Colsay_env.nc\n",
      "Grouping file \\\\qarchive\\data_sensors\\b&k\\COVID-19\\20200429_Zeekat\\HMS Colsay\\200429111002_812_mono1.wav\n"
     ]
    },
    {
     "name": "stderr",
     "output_type": "stream",
     "text": [
      "100%|██████████| 1041/1041 [00:10<00:00, 98.54it/s]\n"
     ]
    },
    {
     "name": "stdout",
     "output_type": "stream",
     "text": [
      "HMS Colsay 1039 1039\n",
      "Adding shipping...\n"
     ]
    },
    {
     "name": "stderr",
     "output_type": "stream",
     "text": [
      "\n",
      "  0%|          | 0/1 [00:00<?, ?it/s]\u001b[A\n",
      "100%|██████████| 1/1 [00:00<00:00,  3.18it/s]\u001b[A"
     ]
    },
    {
     "name": "stdout",
     "output_type": "stream",
     "text": [
      "Adding time...\n"
     ]
    },
    {
     "name": "stderr",
     "output_type": "stream",
     "text": [
      "\n"
     ]
    },
    {
     "data": {
      "application/vnd.jupyter.widget-view+json": {
       "model_id": "72ac08721a734c878aa92d3ab9f5e573",
       "version_major": 2,
       "version_minor": 0
      },
      "text/plain": [
       "  0%|          | 0/1039 [00:00<?, ?it/s]"
      ]
     },
     "metadata": {},
     "output_type": "display_data"
    },
    {
     "name": "stdout",
     "output_type": "stream",
     "text": [
      "Adding habitat_suitability...\n",
      "Adding seabed_habitat...\n",
      "Adding sea_surface...\n",
      "Adding sea_wave...\n",
      "Adding wrakken_bank...\n",
      "Adding bathymetry...\n"
     ]
    },
    {
     "name": "stderr",
     "output_type": "stream",
     "text": [
      "\r",
      "  3%|▎         | 2/67 [00:56<29:11, 26.94s/it]"
     ]
    },
    {
     "name": "stdout",
     "output_type": "stream",
     "text": [
      "data\\processed\\2_Lola_env.nc\n",
      "Grouping file \\\\qarchive\\data_sensors\\b&k\\COVID-19\\20200429_Zeekat\\Lola\\200429120552_813_mono1.wav\n"
     ]
    },
    {
     "name": "stderr",
     "output_type": "stream",
     "text": [
      "100%|██████████| 367/367 [00:03<00:00, 95.67it/s] \n"
     ]
    },
    {
     "name": "stdout",
     "output_type": "stream",
     "text": [
      "Lola 365 365\n",
      "Adding shipping...\n"
     ]
    },
    {
     "name": "stderr",
     "output_type": "stream",
     "text": [
      "\n",
      "  0%|          | 0/1 [00:00<?, ?it/s]\u001b[A\n",
      "100%|██████████| 1/1 [00:00<00:00,  3.37it/s]\u001b[A"
     ]
    },
    {
     "name": "stdout",
     "output_type": "stream",
     "text": [
      "Adding time...\n"
     ]
    },
    {
     "name": "stderr",
     "output_type": "stream",
     "text": [
      "\n"
     ]
    },
    {
     "data": {
      "application/vnd.jupyter.widget-view+json": {
       "model_id": "38c55446f2b441d88bc11aeabdfa71ef",
       "version_major": 2,
       "version_minor": 0
      },
      "text/plain": [
       "  0%|          | 0/365 [00:00<?, ?it/s]"
      ]
     },
     "metadata": {},
     "output_type": "display_data"
    },
    {
     "name": "stdout",
     "output_type": "stream",
     "text": [
      "Adding habitat_suitability...\n",
      "Adding seabed_habitat...\n",
      "Adding sea_surface...\n",
      "Adding sea_wave...\n",
      "Adding wrakken_bank...\n",
      "Adding bathymetry...\n"
     ]
    },
    {
     "name": "stderr",
     "output_type": "stream",
     "text": [
      "\r",
      "  4%|▍         | 3/67 [01:05<20:16, 19.00s/it]"
     ]
    },
    {
     "name": "stdout",
     "output_type": "stream",
     "text": [
      "data\\processed\\3_Buitenratel_env.nc\n",
      "Grouping file \\\\qarchive\\data_sensors\\b&k\\COVID-19\\20200504_Simon Stevin\\Buitenratel\\200504130252_817_mono1.wav\n"
     ]
    },
    {
     "name": "stderr",
     "output_type": "stream",
     "text": [
      "100%|██████████| 891/891 [00:08<00:00, 99.29it/s] \n"
     ]
    },
    {
     "name": "stdout",
     "output_type": "stream",
     "text": [
      "Buitenratel 888 888\n",
      "Adding shipping...\n"
     ]
    },
    {
     "name": "stderr",
     "output_type": "stream",
     "text": [
      "\n",
      "  0%|          | 0/1 [00:00<?, ?it/s]\u001b[A\n",
      "100%|██████████| 1/1 [00:00<00:00,  3.13it/s]\u001b[A"
     ]
    },
    {
     "name": "stdout",
     "output_type": "stream",
     "text": [
      "Adding time...\n"
     ]
    },
    {
     "name": "stderr",
     "output_type": "stream",
     "text": [
      "\n"
     ]
    },
    {
     "data": {
      "application/vnd.jupyter.widget-view+json": {
       "model_id": "0b89deb377bd4a8f957c553fba2399d3",
       "version_major": 2,
       "version_minor": 0
      },
      "text/plain": [
       "  0%|          | 0/888 [00:00<?, ?it/s]"
      ]
     },
     "metadata": {},
     "output_type": "display_data"
    },
    {
     "name": "stdout",
     "output_type": "stream",
     "text": [
      "Adding habitat_suitability...\n",
      "Adding seabed_habitat...\n",
      "Adding sea_surface...\n",
      "Adding sea_wave...\n",
      "Adding wrakken_bank...\n",
      "Adding bathymetry...\n"
     ]
    },
    {
     "name": "stderr",
     "output_type": "stream",
     "text": [
      "\r",
      "  6%|▌         | 4/67 [01:24<19:53, 18.94s/it]"
     ]
    },
    {
     "name": "stdout",
     "output_type": "stream",
     "text": [
      "data\\processed\\4_Killmore_env.nc\n",
      "Grouping file \\\\qarchive\\data_sensors\\b&k\\COVID-19\\20200504_Simon Stevin\\Killmore\\200504100816_814_mono1.wav\n"
     ]
    },
    {
     "name": "stderr",
     "output_type": "stream",
     "text": [
      "100%|██████████| 452/452 [00:05<00:00, 89.21it/s]\n"
     ]
    },
    {
     "name": "stdout",
     "output_type": "stream",
     "text": [
      "Grouping file \\\\qarchive\\data_sensors\\b&k\\COVID-19\\20200504_Simon Stevin\\Killmore\\200504102406_815_mono1.wav\n"
     ]
    },
    {
     "name": "stderr",
     "output_type": "stream",
     "text": [
      "100%|██████████| 492/492 [00:05<00:00, 91.66it/s]\n"
     ]
    },
    {
     "name": "stdout",
     "output_type": "stream",
     "text": [
      "Killmore 939 939\n",
      "Adding shipping...\n"
     ]
    },
    {
     "name": "stderr",
     "output_type": "stream",
     "text": [
      "\n",
      "  0%|          | 0/1 [00:00<?, ?it/s]\u001b[A\n",
      "100%|██████████| 1/1 [00:00<00:00,  2.84it/s]\u001b[A"
     ]
    },
    {
     "name": "stdout",
     "output_type": "stream",
     "text": [
      "Adding time...\n"
     ]
    },
    {
     "name": "stderr",
     "output_type": "stream",
     "text": [
      "\n"
     ]
    },
    {
     "data": {
      "application/vnd.jupyter.widget-view+json": {
       "model_id": "e246f23a192f44bc88cd5a1c169382c4",
       "version_major": 2,
       "version_minor": 0
      },
      "text/plain": [
       "  0%|          | 0/939 [00:00<?, ?it/s]"
      ]
     },
     "metadata": {},
     "output_type": "display_data"
    },
    {
     "name": "stdout",
     "output_type": "stream",
     "text": [
      "Adding habitat_suitability...\n",
      "Adding seabed_habitat...\n",
      "Adding sea_surface...\n",
      "Adding sea_wave...\n",
      "Adding wrakken_bank...\n",
      "Adding bathymetry...\n"
     ]
    },
    {
     "name": "stderr",
     "output_type": "stream",
     "text": [
      "\r",
      "  7%|▋         | 5/67 [01:45<20:09, 19.51s/it]"
     ]
    },
    {
     "name": "stdout",
     "output_type": "stream",
     "text": [
      "data\\processed\\5_Westhinder_env.nc\n",
      "Grouping file \\\\qarchive\\data_sensors\\b&k\\COVID-19\\20200504_Simon Stevin\\Westhinder\\200504111910_816_mono1.wav\n"
     ]
    },
    {
     "name": "stderr",
     "output_type": "stream",
     "text": [
      "100%|██████████| 893/893 [00:09<00:00, 94.87it/s] \n"
     ]
    },
    {
     "name": "stdout",
     "output_type": "stream",
     "text": [
      "Westhinder 890 890\n",
      "Adding shipping...\n"
     ]
    },
    {
     "name": "stderr",
     "output_type": "stream",
     "text": [
      "\n",
      "  0%|          | 0/1 [00:00<?, ?it/s]\u001b[A\n",
      "100%|██████████| 1/1 [00:00<00:00,  3.24it/s]\u001b[A"
     ]
    },
    {
     "name": "stdout",
     "output_type": "stream",
     "text": [
      "Adding time...\n"
     ]
    },
    {
     "name": "stderr",
     "output_type": "stream",
     "text": [
      "\n"
     ]
    },
    {
     "data": {
      "application/vnd.jupyter.widget-view+json": {
       "model_id": "572c10c8adf84bfe840a9f9088d54922",
       "version_major": 2,
       "version_minor": 0
      },
      "text/plain": [
       "  0%|          | 0/890 [00:00<?, ?it/s]"
      ]
     },
     "metadata": {},
     "output_type": "display_data"
    },
    {
     "name": "stdout",
     "output_type": "stream",
     "text": [
      "Adding habitat_suitability...\n",
      "Adding seabed_habitat...\n",
      "Adding sea_surface...\n",
      "Adding sea_wave...\n",
      "Adding wrakken_bank...\n",
      "Adding bathymetry...\n"
     ]
    },
    {
     "name": "stderr",
     "output_type": "stream",
     "text": [
      "\r",
      "  9%|▉         | 6/67 [02:04<19:41, 19.37s/it]"
     ]
    },
    {
     "name": "stdout",
     "output_type": "stream",
     "text": [
      "data\\processed\\6_Reefballs Belwind_env.nc\n",
      "Grouping file \\\\qarchive\\data_sensors\\b&k\\COVID-19\\20200506_Simon Stevin\\Reefballs Belwind\\200506104112_818_mono1.wav\n"
     ]
    },
    {
     "name": "stderr",
     "output_type": "stream",
     "text": [
      "100%|██████████| 140/140 [00:01<00:00, 96.24it/s]\n"
     ]
    },
    {
     "name": "stdout",
     "output_type": "stream",
     "text": [
      "Grouping file \\\\qarchive\\data_sensors\\b&k\\COVID-19\\20200506_Simon Stevin\\Reefballs Belwind\\200506104928_819_mono1.wav\n"
     ]
    },
    {
     "name": "stderr",
     "output_type": "stream",
     "text": [
      "100%|██████████| 457/457 [00:04<00:00, 96.41it/s]\n"
     ]
    },
    {
     "name": "stdout",
     "output_type": "stream",
     "text": [
      "Grouping file \\\\qarchive\\data_sensors\\b&k\\COVID-19\\20200506_Simon Stevin\\Reefballs Belwind\\200506110950_820_mono1.wav\n"
     ]
    },
    {
     "name": "stderr",
     "output_type": "stream",
     "text": [
      "100%|██████████| 327/327 [00:03<00:00, 89.80it/s]\n"
     ]
    },
    {
     "name": "stdout",
     "output_type": "stream",
     "text": [
      "Reefballs Belwind 918 918\n",
      "Adding shipping...\n"
     ]
    },
    {
     "name": "stderr",
     "output_type": "stream",
     "text": [
      "\n",
      "  0%|          | 0/1 [00:00<?, ?it/s]\u001b[A\n",
      "100%|██████████| 1/1 [00:00<00:00,  3.22it/s]\u001b[A"
     ]
    },
    {
     "name": "stdout",
     "output_type": "stream",
     "text": [
      "Adding time...\n"
     ]
    },
    {
     "name": "stderr",
     "output_type": "stream",
     "text": [
      "\n"
     ]
    },
    {
     "data": {
      "application/vnd.jupyter.widget-view+json": {
       "model_id": "f93ad29639464b818a72af65fa2bbcbb",
       "version_major": 2,
       "version_minor": 0
      },
      "text/plain": [
       "  0%|          | 0/918 [00:00<?, ?it/s]"
      ]
     },
     "metadata": {},
     "output_type": "display_data"
    },
    {
     "name": "stdout",
     "output_type": "stream",
     "text": [
      "Adding habitat_suitability...\n",
      "Adding seabed_habitat...\n",
      "Adding sea_surface...\n",
      "Adding sea_wave...\n",
      "Adding wrakken_bank...\n",
      "Adding bathymetry...\n"
     ]
    },
    {
     "name": "stderr",
     "output_type": "stream",
     "text": [
      "\r",
      " 10%|█         | 7/67 [02:24<19:49, 19.82s/it]"
     ]
    },
    {
     "name": "stdout",
     "output_type": "stream",
     "text": [
      "data\\processed\\7_Reefballs CPower_env.nc\n",
      "Grouping file \\\\qarchive\\data_sensors\\b&k\\COVID-19\\20200506_Simon Stevin\\Reefballs CPower\\200506130349_821_mono1.wav\n"
     ]
    },
    {
     "name": "stderr",
     "output_type": "stream",
     "text": [
      "100%|██████████| 597/597 [00:06<00:00, 96.35it/s] \n"
     ]
    },
    {
     "name": "stdout",
     "output_type": "stream",
     "text": [
      "Grouping file \\\\qarchive\\data_sensors\\b&k\\COVID-19\\20200506_Simon Stevin\\Reefballs CPower\\200506140249_822_mono1.wav\n"
     ]
    },
    {
     "name": "stderr",
     "output_type": "stream",
     "text": [
      "100%|██████████| 440/440 [00:04<00:00, 91.04it/s]\n"
     ]
    },
    {
     "name": "stdout",
     "output_type": "stream",
     "text": [
      "Reefballs CPower 1032 1032\n",
      "Adding shipping...\n"
     ]
    },
    {
     "name": "stderr",
     "output_type": "stream",
     "text": [
      "\n",
      "  0%|          | 0/1 [00:00<?, ?it/s]\u001b[A\n",
      "100%|██████████| 1/1 [00:00<00:00,  3.34it/s]\u001b[A"
     ]
    },
    {
     "name": "stdout",
     "output_type": "stream",
     "text": [
      "Adding time...\n"
     ]
    },
    {
     "name": "stderr",
     "output_type": "stream",
     "text": [
      "\n"
     ]
    },
    {
     "data": {
      "application/vnd.jupyter.widget-view+json": {
       "model_id": "1f91ef2c7c3a48a2a9e41d82e84b5c0f",
       "version_major": 2,
       "version_minor": 0
      },
      "text/plain": [
       "  0%|          | 0/1032 [00:00<?, ?it/s]"
      ]
     },
     "metadata": {},
     "output_type": "display_data"
    },
    {
     "name": "stdout",
     "output_type": "stream",
     "text": [
      "Adding habitat_suitability...\n",
      "Adding seabed_habitat...\n",
      "Adding sea_surface...\n",
      "Adding sea_wave...\n",
      "Adding wrakken_bank...\n",
      "Adding bathymetry...\n"
     ]
    },
    {
     "name": "stderr",
     "output_type": "stream",
     "text": [
      "\r",
      " 12%|█▏        | 8/67 [02:47<20:30, 20.86s/it]"
     ]
    },
    {
     "name": "stdout",
     "output_type": "stream",
     "text": [
      "data\\processed\\8_Gardencity_env.nc\n",
      "Grouping file \\\\qarchive\\data_sensors\\b&k\\COVID-19\\20200507_Simon Stevin\\Gardencity_10\\200507083301_830_mono1.wav\n"
     ]
    },
    {
     "name": "stderr",
     "output_type": "stream",
     "text": [
      "100%|██████████| 84/84 [00:00<00:00, 101.44it/s]\n"
     ]
    },
    {
     "name": "stdout",
     "output_type": "stream",
     "text": [
      "Grouping file \\\\qarchive\\data_sensors\\b&k\\COVID-19\\20200507_Simon Stevin\\Gardencity_10\\200507084219_831_mono1.wav\n"
     ]
    },
    {
     "name": "stderr",
     "output_type": "stream",
     "text": [
      "100%|██████████| 59/59 [00:00<00:00, 94.00it/s]\n"
     ]
    },
    {
     "name": "stdout",
     "output_type": "stream",
     "text": [
      "Grouping file \\\\qarchive\\data_sensors\\b&k\\COVID-19\\20200507_Simon Stevin\\Gardencity_10\\200507085259_833_mono1.wav\n"
     ]
    },
    {
     "name": "stderr",
     "output_type": "stream",
     "text": [
      "100%|██████████| 311/311 [00:03<00:00, 96.25it/s] \n"
     ]
    },
    {
     "name": "stdout",
     "output_type": "stream",
     "text": [
      "Grouping file \\\\qarchive\\data_sensors\\b&k\\COVID-19\\20200507_Simon Stevin\\Gardencity_10\\200507090905_834_mono1.wav\n"
     ]
    },
    {
     "name": "stderr",
     "output_type": "stream",
     "text": [
      "100%|██████████| 586/586 [00:06<00:00, 95.59it/s]\n"
     ]
    },
    {
     "name": "stdout",
     "output_type": "stream",
     "text": [
      "Gardencity 1028 1028\n",
      "Adding shipping...\n"
     ]
    },
    {
     "name": "stderr",
     "output_type": "stream",
     "text": [
      "\n",
      "  0%|          | 0/1 [00:00<?, ?it/s]\u001b[A\n",
      "100%|██████████| 1/1 [00:00<00:00,  3.18it/s]\u001b[A"
     ]
    },
    {
     "name": "stdout",
     "output_type": "stream",
     "text": [
      "Adding time...\n"
     ]
    },
    {
     "name": "stderr",
     "output_type": "stream",
     "text": [
      "\n"
     ]
    },
    {
     "data": {
      "application/vnd.jupyter.widget-view+json": {
       "model_id": "b0427cc745724c6ca0026da0ba0762d5",
       "version_major": 2,
       "version_minor": 0
      },
      "text/plain": [
       "  0%|          | 0/1028 [00:00<?, ?it/s]"
      ]
     },
     "metadata": {},
     "output_type": "display_data"
    },
    {
     "name": "stdout",
     "output_type": "stream",
     "text": [
      "Adding habitat_suitability...\n",
      "Adding seabed_habitat...\n",
      "Adding sea_surface...\n",
      "Adding sea_wave...\n",
      "Adding wrakken_bank...\n",
      "Adding bathymetry...\n"
     ]
    },
    {
     "name": "stderr",
     "output_type": "stream",
     "text": [
      "\r",
      " 13%|█▎        | 9/67 [03:10<20:37, 21.34s/it]"
     ]
    },
    {
     "name": "stdout",
     "output_type": "stream",
     "text": [
      "data\\processed\\9_Gardencity_env.nc\n",
      "Grouping file \\\\qarchive\\data_sensors\\b&k\\COVID-19\\20200507_Simon Stevin\\Gardencity_3.16\\200507084433_832_mono1.wav\n"
     ]
    },
    {
     "name": "stderr",
     "output_type": "stream",
     "text": [
      "100%|██████████| 228/228 [00:02<00:00, 101.25it/s]\n"
     ]
    },
    {
     "name": "stdout",
     "output_type": "stream",
     "text": [
      "Gardencity 226 226\n",
      "Adding shipping...\n"
     ]
    },
    {
     "name": "stderr",
     "output_type": "stream",
     "text": [
      "\n",
      "  0%|          | 0/1 [00:00<?, ?it/s]\u001b[A\n",
      "100%|██████████| 1/1 [00:00<00:00,  3.14it/s]\u001b[A"
     ]
    },
    {
     "name": "stdout",
     "output_type": "stream",
     "text": [
      "Adding time...\n"
     ]
    },
    {
     "name": "stderr",
     "output_type": "stream",
     "text": [
      "\n"
     ]
    },
    {
     "data": {
      "application/vnd.jupyter.widget-view+json": {
       "model_id": "58f3a07a9db848cb9109558cba3a0c19",
       "version_major": 2,
       "version_minor": 0
      },
      "text/plain": [
       "  0%|          | 0/226 [00:00<?, ?it/s]"
      ]
     },
     "metadata": {},
     "output_type": "display_data"
    },
    {
     "name": "stdout",
     "output_type": "stream",
     "text": [
      "Adding habitat_suitability...\n",
      "Adding seabed_habitat...\n",
      "Adding sea_surface...\n",
      "Adding sea_wave...\n",
      "Adding wrakken_bank...\n",
      "Adding bathymetry...\n"
     ]
    },
    {
     "name": "stderr",
     "output_type": "stream",
     "text": [
      "\r",
      " 15%|█▍        | 10/67 [03:17<16:04, 16.93s/it]"
     ]
    },
    {
     "name": "stdout",
     "output_type": "stream",
     "text": [
      "data\\processed\\10_G88_env.nc\n",
      "Grouping file \\\\qarchive\\data_sensors\\b&k\\COVID-19\\20200508_Simon Stevin\\G88\\200508094942_837_mono1.wav\n"
     ]
    },
    {
     "name": "stderr",
     "output_type": "stream",
     "text": [
      "100%|██████████| 424/424 [00:04<00:00, 99.88it/s] \n"
     ]
    },
    {
     "name": "stdout",
     "output_type": "stream",
     "text": [
      "Grouping file \\\\qarchive\\data_sensors\\b&k\\COVID-19\\20200508_Simon Stevin\\G88\\200508100920_838_mono1.wav\n"
     ]
    },
    {
     "name": "stderr",
     "output_type": "stream",
     "text": [
      "100%|██████████| 489/489 [00:05<00:00, 94.23it/s]\n"
     ]
    },
    {
     "name": "stdout",
     "output_type": "stream",
     "text": [
      "G88 909 909\n",
      "Adding shipping...\n"
     ]
    },
    {
     "name": "stderr",
     "output_type": "stream",
     "text": [
      "\n",
      "  0%|          | 0/1 [00:00<?, ?it/s]\u001b[A\n",
      "100%|██████████| 1/1 [00:00<00:00,  3.28it/s]\u001b[A"
     ]
    },
    {
     "name": "stdout",
     "output_type": "stream",
     "text": [
      "Adding time...\n"
     ]
    },
    {
     "name": "stderr",
     "output_type": "stream",
     "text": [
      "\n"
     ]
    },
    {
     "data": {
      "application/vnd.jupyter.widget-view+json": {
       "model_id": "bcbb1f69befc4aaf8d3930199e088f89",
       "version_major": 2,
       "version_minor": 0
      },
      "text/plain": [
       "  0%|          | 0/909 [00:00<?, ?it/s]"
      ]
     },
     "metadata": {},
     "output_type": "display_data"
    },
    {
     "name": "stdout",
     "output_type": "stream",
     "text": [
      "Adding habitat_suitability...\n",
      "Adding seabed_habitat...\n",
      "Adding sea_surface...\n",
      "Adding sea_wave...\n",
      "Adding wrakken_bank...\n",
      "Adding bathymetry...\n"
     ]
    },
    {
     "name": "stderr",
     "output_type": "stream",
     "text": [
      "\r",
      " 16%|█▋        | 11/67 [03:35<16:08, 17.29s/it]"
     ]
    },
    {
     "name": "stdout",
     "output_type": "stream",
     "text": [
      "data\\processed\\11_Loreley_env.nc\n",
      "Grouping file \\\\qarchive\\data_sensors\\b&k\\COVID-19\\20200508_Simon Stevin\\Loreley_10\\200508113735_839_mono1.wav\n"
     ]
    },
    {
     "name": "stderr",
     "output_type": "stream",
     "text": [
      "100%|██████████| 9/9 [00:00<00:00, 136.35it/s]\n"
     ]
    },
    {
     "name": "stdout",
     "output_type": "stream",
     "text": [
      "Loreley 7 7\n",
      "Adding shipping...\n"
     ]
    },
    {
     "name": "stderr",
     "output_type": "stream",
     "text": [
      "\n",
      "  0%|          | 0/1 [00:00<?, ?it/s]\u001b[A\n",
      "100%|██████████| 1/1 [00:00<00:00,  3.24it/s]\u001b[A"
     ]
    },
    {
     "name": "stdout",
     "output_type": "stream",
     "text": [
      "Adding time...\n"
     ]
    },
    {
     "name": "stderr",
     "output_type": "stream",
     "text": [
      "\n"
     ]
    },
    {
     "data": {
      "application/vnd.jupyter.widget-view+json": {
       "model_id": "5f1a12ae916244c6b3b09ea90a0a2bfd",
       "version_major": 2,
       "version_minor": 0
      },
      "text/plain": [
       "  0%|          | 0/7 [00:00<?, ?it/s]"
      ]
     },
     "metadata": {},
     "output_type": "display_data"
    },
    {
     "name": "stdout",
     "output_type": "stream",
     "text": [
      "Adding habitat_suitability...\n",
      "Adding seabed_habitat...\n",
      "Adding sea_surface...\n",
      "Adding sea_wave...\n",
      "Adding wrakken_bank...\n",
      "Adding bathymetry...\n"
     ]
    },
    {
     "name": "stderr",
     "output_type": "stream",
     "text": [
      "\r",
      " 18%|█▊        | 12/67 [03:37<11:42, 12.78s/it]"
     ]
    },
    {
     "name": "stdout",
     "output_type": "stream",
     "text": [
      "data\\processed\\12_Loreley_env.nc\n",
      "Grouping file \\\\qarchive\\data_sensors\\b&k\\COVID-19\\20200508_Simon Stevin\\Loreley_3.16\\200508120324_842_mono1.wav\n"
     ]
    },
    {
     "name": "stderr",
     "output_type": "stream",
     "text": [
      "100%|██████████| 610/610 [00:06<00:00, 97.83it/s] \n"
     ]
    },
    {
     "name": "stdout",
     "output_type": "stream",
     "text": [
      "Grouping file \\\\qarchive\\data_sensors\\b&k\\COVID-19\\20200508_Simon Stevin\\Loreley_3.16\\200508122715_843_mono1.wav\n"
     ]
    },
    {
     "name": "stderr",
     "output_type": "stream",
     "text": [
      "100%|██████████| 323/323 [00:03<00:00, 92.91it/s]\n"
     ]
    },
    {
     "name": "stdout",
     "output_type": "stream",
     "text": [
      "Loreley 927 927\n",
      "Adding shipping...\n"
     ]
    },
    {
     "name": "stderr",
     "output_type": "stream",
     "text": [
      "\n",
      "  0%|          | 0/1 [00:00<?, ?it/s]\u001b[A\n",
      "100%|██████████| 1/1 [00:00<00:00,  3.17it/s]\u001b[A"
     ]
    },
    {
     "name": "stdout",
     "output_type": "stream",
     "text": [
      "Adding time...\n"
     ]
    },
    {
     "name": "stderr",
     "output_type": "stream",
     "text": [
      "\n"
     ]
    },
    {
     "data": {
      "application/vnd.jupyter.widget-view+json": {
       "model_id": "ea939a095745407293bcd2ee5f30e57b",
       "version_major": 2,
       "version_minor": 0
      },
      "text/plain": [
       "  0%|          | 0/927 [00:00<?, ?it/s]"
      ]
     },
     "metadata": {},
     "output_type": "display_data"
    },
    {
     "name": "stdout",
     "output_type": "stream",
     "text": [
      "Adding habitat_suitability...\n",
      "Adding seabed_habitat...\n",
      "Adding sea_surface...\n",
      "Adding sea_wave...\n",
      "Adding wrakken_bank...\n",
      "Adding bathymetry...\n"
     ]
    },
    {
     "name": "stderr",
     "output_type": "stream",
     "text": [
      "\r",
      " 19%|█▉        | 13/67 [03:56<12:59, 14.44s/it]"
     ]
    },
    {
     "name": "stdout",
     "output_type": "stream",
     "text": [
      "data\\processed\\13_Loreley_env.nc\n",
      "Grouping file \\\\qarchive\\data_sensors\\b&k\\COVID-19\\20200508_Simon Stevin\\Loreley_31.6\\200508113915_840_mono1.wav\n"
     ]
    },
    {
     "name": "stderr",
     "output_type": "stream",
     "text": [
      "100%|██████████| 421/421 [00:04<00:00, 103.13it/s]\n"
     ]
    },
    {
     "name": "stdout",
     "output_type": "stream",
     "text": [
      "Grouping file \\\\qarchive\\data_sensors\\b&k\\COVID-19\\20200508_Simon Stevin\\Loreley_31.6\\200508115850_841_mono1.wav\n"
     ]
    },
    {
     "name": "stderr",
     "output_type": "stream",
     "text": [
      "100%|██████████| 98/98 [00:00<00:00, 99.77it/s]\n"
     ]
    },
    {
     "name": "stdout",
     "output_type": "stream",
     "text": [
      "Loreley 514 514\n",
      "Adding shipping...\n"
     ]
    },
    {
     "name": "stderr",
     "output_type": "stream",
     "text": [
      "\n",
      "  0%|          | 0/1 [00:00<?, ?it/s]\u001b[A\n",
      "100%|██████████| 1/1 [00:00<00:00,  3.30it/s]\u001b[A"
     ]
    },
    {
     "name": "stdout",
     "output_type": "stream",
     "text": [
      "Adding time...\n"
     ]
    },
    {
     "name": "stderr",
     "output_type": "stream",
     "text": [
      "\n"
     ]
    },
    {
     "data": {
      "application/vnd.jupyter.widget-view+json": {
       "model_id": "a5e18fde259c41639cc546af5391a4ae",
       "version_major": 2,
       "version_minor": 0
      },
      "text/plain": [
       "  0%|          | 0/514 [00:00<?, ?it/s]"
      ]
     },
     "metadata": {},
     "output_type": "display_data"
    },
    {
     "name": "stdout",
     "output_type": "stream",
     "text": [
      "Adding habitat_suitability...\n",
      "Adding seabed_habitat...\n",
      "Adding sea_surface...\n",
      "Adding sea_wave...\n",
      "Adding wrakken_bank...\n",
      "Adding bathymetry...\n"
     ]
    },
    {
     "name": "stderr",
     "output_type": "stream",
     "text": [
      "\r",
      " 21%|██        | 14/67 [04:07<11:49, 13.39s/it]"
     ]
    },
    {
     "name": "stdout",
     "output_type": "stream",
     "text": [
      "data\\processed\\14_Nautica Ena_env.nc\n",
      "Grouping file \\\\qarchive\\data_sensors\\b&k\\COVID-19\\20200508_Simon Stevin\\Nautica Ena\\200508125007_844_mono1.wav\n"
     ]
    },
    {
     "name": "stderr",
     "output_type": "stream",
     "text": [
      "100%|██████████| 948/948 [00:09<00:00, 98.63it/s] \n"
     ]
    },
    {
     "name": "stdout",
     "output_type": "stream",
     "text": [
      "Nautica Ena 945 945\n",
      "Adding shipping...\n"
     ]
    },
    {
     "name": "stderr",
     "output_type": "stream",
     "text": [
      "\n",
      "  0%|          | 0/1 [00:00<?, ?it/s]\u001b[A\n",
      "100%|██████████| 1/1 [00:00<00:00,  3.37it/s]\u001b[A"
     ]
    },
    {
     "name": "stdout",
     "output_type": "stream",
     "text": [
      "Adding time...\n"
     ]
    },
    {
     "name": "stderr",
     "output_type": "stream",
     "text": [
      "\n"
     ]
    },
    {
     "data": {
      "application/vnd.jupyter.widget-view+json": {
       "model_id": "b02a8273714143c7aeb488a0cea4acbf",
       "version_major": 2,
       "version_minor": 0
      },
      "text/plain": [
       "  0%|          | 0/945 [00:00<?, ?it/s]"
      ]
     },
     "metadata": {},
     "output_type": "display_data"
    },
    {
     "name": "stdout",
     "output_type": "stream",
     "text": [
      "Adding habitat_suitability...\n",
      "Adding seabed_habitat...\n",
      "Adding sea_surface...\n",
      "Adding sea_wave...\n",
      "Adding wrakken_bank...\n",
      "Adding bathymetry...\n"
     ]
    },
    {
     "name": "stderr",
     "output_type": "stream",
     "text": [
      "\r",
      " 22%|██▏       | 15/67 [04:24<12:41, 14.64s/it]"
     ]
    },
    {
     "name": "stdout",
     "output_type": "stream",
     "text": [
      "data\\processed\\15_Senator_env.nc\n",
      "Grouping file \\\\qarchive\\data_sensors\\b&k\\COVID-19\\20200508_Simon Stevin\\Senator\\200508133136_845_mono1.wav\n"
     ]
    },
    {
     "name": "stderr",
     "output_type": "stream",
     "text": [
      "100%|██████████| 607/607 [00:06<00:00, 100.64it/s]\n"
     ]
    },
    {
     "name": "stdout",
     "output_type": "stream",
     "text": [
      "Senator 604 604\n",
      "Adding shipping...\n"
     ]
    },
    {
     "name": "stderr",
     "output_type": "stream",
     "text": [
      "\n",
      "  0%|          | 0/1 [00:00<?, ?it/s]\u001b[A\n",
      "100%|██████████| 1/1 [00:01<00:00,  1.17s/it]\u001b[A"
     ]
    },
    {
     "name": "stdout",
     "output_type": "stream",
     "text": [
      "Adding time...\n"
     ]
    },
    {
     "name": "stderr",
     "output_type": "stream",
     "text": [
      "\n"
     ]
    },
    {
     "data": {
      "application/vnd.jupyter.widget-view+json": {
       "model_id": "a2b6d5670a404bc3868bc1e54eca7f90",
       "version_major": 2,
       "version_minor": 0
      },
      "text/plain": [
       "  0%|          | 0/604 [00:00<?, ?it/s]"
      ]
     },
     "metadata": {},
     "output_type": "display_data"
    },
    {
     "name": "stdout",
     "output_type": "stream",
     "text": [
      "Adding habitat_suitability...\n",
      "Adding seabed_habitat...\n",
      "Adding sea_surface...\n",
      "Adding sea_wave...\n",
      "Adding wrakken_bank...\n",
      "Adding bathymetry...\n"
     ]
    },
    {
     "name": "stderr",
     "output_type": "stream",
     "text": [
      "\r",
      " 24%|██▍       | 16/67 [04:37<12:04, 14.20s/it]"
     ]
    },
    {
     "name": "stdout",
     "output_type": "stream",
     "text": [
      "data\\processed\\16_Birkenfels_env.nc\n",
      "Grouping file \\\\qarchive\\data_sensors\\b&k\\COVID-19\\20200601_SailingTrip\\Birkenfels\\200602163700_857_mono1_1mV_Pa.wav\n"
     ]
    },
    {
     "name": "stderr",
     "output_type": "stream",
     "text": [
      "100%|██████████| 1844/1844 [00:19<00:00, 94.20it/s]\n"
     ]
    },
    {
     "name": "stdout",
     "output_type": "stream",
     "text": [
      "Grouping file \\\\qarchive\\data_sensors\\b&k\\COVID-19\\20200601_SailingTrip\\Birkenfels\\200602173800_858_mono1_1mV_Pa.wav\n"
     ]
    },
    {
     "name": "stderr",
     "output_type": "stream",
     "text": [
      "100%|██████████| 11/11 [00:00<00:00, 105.71it/s]\n"
     ]
    },
    {
     "name": "stdout",
     "output_type": "stream",
     "text": [
      "Birkenfels 1850 1850\n",
      "Adding shipping...\n"
     ]
    },
    {
     "name": "stderr",
     "output_type": "stream",
     "text": [
      "\n",
      "  0%|          | 0/1 [00:00<?, ?it/s]\u001b[A\n",
      "100%|██████████| 1/1 [00:00<00:00,  3.28it/s]\u001b[A"
     ]
    },
    {
     "name": "stdout",
     "output_type": "stream",
     "text": [
      "Adding time...\n"
     ]
    },
    {
     "name": "stderr",
     "output_type": "stream",
     "text": [
      "\n"
     ]
    },
    {
     "data": {
      "application/vnd.jupyter.widget-view+json": {
       "model_id": "7f080884507f4334af9d40a8cdeb64aa",
       "version_major": 2,
       "version_minor": 0
      },
      "text/plain": [
       "  0%|          | 0/1850 [00:00<?, ?it/s]"
      ]
     },
     "metadata": {},
     "output_type": "display_data"
    },
    {
     "name": "stdout",
     "output_type": "stream",
     "text": [
      "Adding habitat_suitability...\n",
      "Adding seabed_habitat...\n",
      "Adding sea_surface...\n",
      "Adding sea_wave...\n",
      "Adding wrakken_bank...\n",
      "Adding bathymetry...\n"
     ]
    },
    {
     "name": "stderr",
     "output_type": "stream",
     "text": [
      "\r",
      " 25%|██▌       | 17/67 [05:14<17:19, 20.79s/it]"
     ]
    },
    {
     "name": "stdout",
     "output_type": "stream",
     "text": [
      "data\\processed\\17_Buitenratel_env.nc\n",
      "Grouping file \\\\qarchive\\data_sensors\\b&k\\COVID-19\\20200601_SailingTrip\\Buitenratel\\200602031100_852_mono1_3_16mV_Pa.wav\n"
     ]
    },
    {
     "name": "stderr",
     "output_type": "stream",
     "text": [
      "100%|██████████| 369/369 [00:03<00:00, 101.59it/s]\n"
     ]
    },
    {
     "name": "stdout",
     "output_type": "stream",
     "text": [
      "Grouping file \\\\qarchive\\data_sensors\\b&k\\COVID-19\\20200601_SailingTrip\\Buitenratel\\200602032400_853_mono1_3_16mV_Pa.wav\n"
     ]
    },
    {
     "name": "stderr",
     "output_type": "stream",
     "text": [
      "100%|██████████| 1801/1801 [00:20<00:00, 89.91it/s]\n"
     ]
    },
    {
     "name": "stdout",
     "output_type": "stream",
     "text": [
      "Buitenratel 2165 2165\n",
      "Adding shipping...\n"
     ]
    },
    {
     "name": "stderr",
     "output_type": "stream",
     "text": [
      "\n",
      "  0%|          | 0/1 [00:00<?, ?it/s]\u001b[A\n",
      "100%|██████████| 1/1 [00:00<00:00,  3.27it/s]\u001b[A"
     ]
    },
    {
     "name": "stdout",
     "output_type": "stream",
     "text": [
      "Adding time...\n"
     ]
    },
    {
     "name": "stderr",
     "output_type": "stream",
     "text": [
      "\n"
     ]
    },
    {
     "data": {
      "application/vnd.jupyter.widget-view+json": {
       "model_id": "847aa5c8e05644ee8e6b42d250112b85",
       "version_major": 2,
       "version_minor": 0
      },
      "text/plain": [
       "  0%|          | 0/2165 [00:00<?, ?it/s]"
      ]
     },
     "metadata": {},
     "output_type": "display_data"
    },
    {
     "name": "stdout",
     "output_type": "stream",
     "text": [
      "Adding habitat_suitability...\n",
      "Adding seabed_habitat...\n",
      "Adding sea_surface...\n",
      "Adding sea_wave...\n",
      "Adding wrakken_bank...\n",
      "Adding bathymetry...\n"
     ]
    },
    {
     "name": "stderr",
     "output_type": "stream",
     "text": [
      "\r",
      " 27%|██▋       | 18/67 [05:59<22:59, 28.16s/it]"
     ]
    },
    {
     "name": "stdout",
     "output_type": "stream",
     "text": [
      "data\\processed\\18_Gardencity_env.nc\n",
      "Grouping file \\\\qarchive\\data_sensors\\b&k\\COVID-19\\20200601_SailingTrip\\Gardencity\\200602192000_860_mono1_1mV_Pa.wav\n"
     ]
    },
    {
     "name": "stderr",
     "output_type": "stream",
     "text": [
      "100%|██████████| 12/12 [00:00<00:00, 128.91it/s]\n"
     ]
    },
    {
     "name": "stdout",
     "output_type": "stream",
     "text": [
      "Grouping file \\\\qarchive\\data_sensors\\b&k\\COVID-19\\20200601_SailingTrip\\Gardencity\\200602192200_861_mono1_1mV_Pa.wav\n"
     ]
    },
    {
     "name": "stderr",
     "output_type": "stream",
     "text": [
      "100%|██████████| 1811/1811 [00:19<00:00, 92.91it/s]\n"
     ]
    },
    {
     "name": "stdout",
     "output_type": "stream",
     "text": [
      "Gardencity 1819 1819\n",
      "Adding shipping...\n"
     ]
    },
    {
     "name": "stderr",
     "output_type": "stream",
     "text": [
      "\n",
      "  0%|          | 0/1 [00:00<?, ?it/s]\u001b[A\n",
      "100%|██████████| 1/1 [00:00<00:00,  3.00it/s]\u001b[A"
     ]
    },
    {
     "name": "stdout",
     "output_type": "stream",
     "text": [
      "Adding time...\n"
     ]
    },
    {
     "name": "stderr",
     "output_type": "stream",
     "text": [
      "\n"
     ]
    },
    {
     "data": {
      "application/vnd.jupyter.widget-view+json": {
       "model_id": "333a93c74b9542b4871337dde0b50e23",
       "version_major": 2,
       "version_minor": 0
      },
      "text/plain": [
       "  0%|          | 0/1819 [00:00<?, ?it/s]"
      ]
     },
     "metadata": {},
     "output_type": "display_data"
    },
    {
     "name": "stdout",
     "output_type": "stream",
     "text": [
      "Adding habitat_suitability...\n",
      "Adding seabed_habitat...\n",
      "Adding sea_surface...\n",
      "Adding sea_wave...\n",
      "Adding wrakken_bank...\n",
      "Adding bathymetry...\n"
     ]
    },
    {
     "name": "stderr",
     "output_type": "stream",
     "text": [
      "\r",
      " 28%|██▊       | 19/67 [06:37<24:51, 31.07s/it]"
     ]
    },
    {
     "name": "stdout",
     "output_type": "stream",
     "text": [
      "data\\processed\\19_Grafton_env.nc\n",
      "Grouping file \\\\qarchive\\data_sensors\\b&k\\COVID-19\\20200601_SailingTrip\\Grafton_1\\200602083200_855_mono1_1mV_Pa.wav\n"
     ]
    },
    {
     "name": "stderr",
     "output_type": "stream",
     "text": [
      "100%|██████████| 970/970 [00:10<00:00, 96.36it/s] \n"
     ]
    },
    {
     "name": "stdout",
     "output_type": "stream",
     "text": [
      "Grafton 967 967\n",
      "Adding shipping...\n"
     ]
    },
    {
     "name": "stderr",
     "output_type": "stream",
     "text": [
      "\n",
      "  0%|          | 0/1 [00:00<?, ?it/s]\u001b[A\n",
      "100%|██████████| 1/1 [00:13<00:00, 13.09s/it]\u001b[A"
     ]
    },
    {
     "name": "stdout",
     "output_type": "stream",
     "text": [
      "Adding time...\n"
     ]
    },
    {
     "name": "stderr",
     "output_type": "stream",
     "text": [
      "\n"
     ]
    },
    {
     "data": {
      "application/vnd.jupyter.widget-view+json": {
       "model_id": "cd899b64c70443caae06e5c152a04a64",
       "version_major": 2,
       "version_minor": 0
      },
      "text/plain": [
       "  0%|          | 0/967 [00:00<?, ?it/s]"
      ]
     },
     "metadata": {},
     "output_type": "display_data"
    },
    {
     "name": "stdout",
     "output_type": "stream",
     "text": [
      "Adding habitat_suitability...\n",
      "Adding seabed_habitat...\n",
      "Adding sea_surface...\n",
      "Adding sea_wave...\n",
      "Adding wrakken_bank...\n",
      "Adding bathymetry...\n"
     ]
    },
    {
     "name": "stderr",
     "output_type": "stream",
     "text": [
      "\r",
      " 30%|██▉       | 20/67 [07:14<25:49, 32.97s/it]"
     ]
    },
    {
     "name": "stdout",
     "output_type": "stream",
     "text": [
      "data\\processed\\20_Grafton_env.nc\n",
      "Grouping file \\\\qarchive\\data_sensors\\b&k\\COVID-19\\20200601_SailingTrip\\Grafton_3.16\\200602075900_854_mono1_3_16mV_Pa.wav\n"
     ]
    },
    {
     "name": "stderr",
     "output_type": "stream",
     "text": [
      "100%|██████████| 947/947 [00:09<00:00, 96.79it/s] \n"
     ]
    },
    {
     "name": "stdout",
     "output_type": "stream",
     "text": [
      "Grafton 945 945\n",
      "Adding shipping...\n"
     ]
    },
    {
     "name": "stderr",
     "output_type": "stream",
     "text": [
      "\n",
      "  0%|          | 0/1 [00:00<?, ?it/s]\u001b[A\n",
      "100%|██████████| 1/1 [00:00<00:00,  3.12it/s]\u001b[A"
     ]
    },
    {
     "name": "stdout",
     "output_type": "stream",
     "text": [
      "Adding time...\n"
     ]
    },
    {
     "name": "stderr",
     "output_type": "stream",
     "text": [
      "\n"
     ]
    },
    {
     "data": {
      "application/vnd.jupyter.widget-view+json": {
       "model_id": "bb4832d3b22447b782b15ee5e4b1c778",
       "version_major": 2,
       "version_minor": 0
      },
      "text/plain": [
       "  0%|          | 0/945 [00:00<?, ?it/s]"
      ]
     },
     "metadata": {},
     "output_type": "display_data"
    },
    {
     "name": "stdout",
     "output_type": "stream",
     "text": [
      "Adding habitat_suitability...\n",
      "Adding seabed_habitat...\n",
      "Adding sea_surface...\n",
      "Adding sea_wave...\n",
      "Adding wrakken_bank...\n",
      "Adding bathymetry...\n"
     ]
    },
    {
     "name": "stderr",
     "output_type": "stream",
     "text": [
      "\r",
      " 31%|███▏      | 21/67 [07:37<23:01, 30.03s/it]"
     ]
    },
    {
     "name": "stdout",
     "output_type": "stream",
     "text": [
      "data\\processed\\21_Nautica Ena_env.nc\n",
      "Grouping file \\\\qarchive\\data_sensors\\b&k\\COVID-19\\20200601_SailingTrip\\Nautica Ena_3.16\\200601210500_851_mono1_3_16mV_Pa.wav\n"
     ]
    },
    {
     "name": "stderr",
     "output_type": "stream",
     "text": [
      "100%|██████████| 1796/1796 [00:18<00:00, 98.20it/s]\n"
     ]
    },
    {
     "name": "stdout",
     "output_type": "stream",
     "text": [
      "Nautica Ena 1794 1794\n",
      "Adding shipping...\n"
     ]
    },
    {
     "name": "stderr",
     "output_type": "stream",
     "text": [
      "\n",
      "  0%|          | 0/1 [00:00<?, ?it/s]\u001b[A\n",
      "100%|██████████| 1/1 [00:00<00:00,  3.41it/s]\u001b[A"
     ]
    },
    {
     "name": "stdout",
     "output_type": "stream",
     "text": [
      "Adding time...\n"
     ]
    },
    {
     "name": "stderr",
     "output_type": "stream",
     "text": [
      "\n"
     ]
    },
    {
     "data": {
      "application/vnd.jupyter.widget-view+json": {
       "model_id": "1bc97893fc3441c68b858643d5e2f2b0",
       "version_major": 2,
       "version_minor": 0
      },
      "text/plain": [
       "  0%|          | 0/1794 [00:00<?, ?it/s]"
      ]
     },
     "metadata": {},
     "output_type": "display_data"
    },
    {
     "name": "stdout",
     "output_type": "stream",
     "text": [
      "Adding habitat_suitability...\n",
      "Adding seabed_habitat...\n",
      "Adding sea_surface...\n",
      "Adding sea_wave...\n",
      "Adding wrakken_bank...\n",
      "Adding bathymetry...\n"
     ]
    },
    {
     "name": "stderr",
     "output_type": "stream",
     "text": [
      "\r",
      " 33%|███▎      | 22/67 [08:17<24:40, 32.90s/it]"
     ]
    },
    {
     "name": "stdout",
     "output_type": "stream",
     "text": [
      "data\\processed\\22_Nautica Ena_env.nc\n",
      "Grouping file \\\\qarchive\\data_sensors\\b&k\\COVID-19\\20200601_SailingTrip\\Nautica Ena_10\\200603021100_864_mono1_10mV_Pa.wav\n"
     ]
    },
    {
     "name": "stderr",
     "output_type": "stream",
     "text": [
      "100%|██████████| 1827/1827 [00:19<00:00, 93.00it/s]\n"
     ]
    },
    {
     "name": "stdout",
     "output_type": "stream",
     "text": [
      "Nautica Ena 1824 1824\n",
      "Adding shipping...\n"
     ]
    },
    {
     "name": "stderr",
     "output_type": "stream",
     "text": [
      "\n",
      "  0%|          | 0/1 [00:00<?, ?it/s]\u001b[A\n",
      "100%|██████████| 1/1 [00:00<00:00,  3.20it/s]\u001b[A"
     ]
    },
    {
     "name": "stdout",
     "output_type": "stream",
     "text": [
      "Adding time...\n"
     ]
    },
    {
     "name": "stderr",
     "output_type": "stream",
     "text": [
      "\n"
     ]
    },
    {
     "data": {
      "application/vnd.jupyter.widget-view+json": {
       "model_id": "1f9d6bbb1dce4409b03cfc359ebb8dad",
       "version_major": 2,
       "version_minor": 0
      },
      "text/plain": [
       "  0%|          | 0/1824 [00:00<?, ?it/s]"
      ]
     },
     "metadata": {},
     "output_type": "display_data"
    },
    {
     "name": "stdout",
     "output_type": "stream",
     "text": [
      "Adding habitat_suitability...\n",
      "Adding seabed_habitat...\n",
      "Adding sea_surface...\n",
      "Adding sea_wave...\n",
      "Adding wrakken_bank...\n",
      "Adding bathymetry...\n"
     ]
    },
    {
     "name": "stderr",
     "output_type": "stream",
     "text": [
      "\r",
      " 34%|███▍      | 23/67 [08:56<25:24, 34.66s/it]"
     ]
    },
    {
     "name": "stdout",
     "output_type": "stream",
     "text": [
      "data\\processed\\23_VG_env.nc\n",
      "Grouping file \\\\qarchive\\data_sensors\\b&k\\COVID-19\\20200601_SailingTrip\\VG\\200602233400_862_mono1_10mV_Pa.wav\n"
     ]
    },
    {
     "name": "stderr",
     "output_type": "stream",
     "text": [
      "100%|██████████| 83/83 [00:00<00:00, 104.77it/s]\n"
     ]
    },
    {
     "name": "stdout",
     "output_type": "stream",
     "text": [
      "Grouping file \\\\qarchive\\data_sensors\\b&k\\COVID-19\\20200601_SailingTrip\\VG\\200602233700_863_mono1_10mV_Pa.wav\n"
     ]
    },
    {
     "name": "stderr",
     "output_type": "stream",
     "text": [
      "100%|██████████| 1814/1814 [00:20<00:00, 90.42it/s]\n"
     ]
    },
    {
     "name": "stdout",
     "output_type": "stream",
     "text": [
      "VG 1892 1892\n",
      "Adding shipping...\n"
     ]
    },
    {
     "name": "stderr",
     "output_type": "stream",
     "text": [
      "\n",
      "  0%|          | 0/1 [00:00<?, ?it/s]\u001b[A\n",
      "100%|██████████| 1/1 [00:00<00:00,  3.18it/s]\u001b[A"
     ]
    },
    {
     "name": "stdout",
     "output_type": "stream",
     "text": [
      "Adding time...\n"
     ]
    },
    {
     "name": "stderr",
     "output_type": "stream",
     "text": [
      "\n"
     ]
    },
    {
     "data": {
      "application/vnd.jupyter.widget-view+json": {
       "model_id": "d88a250a19e347a1a471e92917621ca2",
       "version_major": 2,
       "version_minor": 0
      },
      "text/plain": [
       "  0%|          | 0/1892 [00:00<?, ?it/s]"
      ]
     },
     "metadata": {},
     "output_type": "display_data"
    },
    {
     "name": "stdout",
     "output_type": "stream",
     "text": [
      "Adding habitat_suitability...\n",
      "Adding seabed_habitat...\n",
      "Adding sea_surface...\n",
      "Adding sea_wave...\n",
      "Adding wrakken_bank...\n",
      "Adding bathymetry...\n"
     ]
    },
    {
     "name": "stderr",
     "output_type": "stream",
     "text": [
      "\r",
      " 36%|███▌      | 24/67 [09:35<25:52, 36.11s/it]"
     ]
    },
    {
     "name": "stdout",
     "output_type": "stream",
     "text": [
      "data\\processed\\24_Westhinder_env.nc\n",
      "Grouping file \\\\qarchive\\data_sensors\\b&k\\COVID-19\\20200601_SailingTrip\\Westhinder\\200602113300_856_mono1_1mV_Pa.wav\n"
     ]
    },
    {
     "name": "stderr",
     "output_type": "stream",
     "text": [
      "100%|██████████| 1820/1820 [00:19<00:00, 95.69it/s]\n"
     ]
    },
    {
     "name": "stdout",
     "output_type": "stream",
     "text": [
      "Westhinder 1817 1817\n",
      "Adding shipping...\n"
     ]
    },
    {
     "name": "stderr",
     "output_type": "stream",
     "text": [
      "\n",
      "  0%|          | 0/1 [00:00<?, ?it/s]\u001b[A\n",
      "100%|██████████| 1/1 [00:00<00:00,  3.18it/s]\u001b[A"
     ]
    },
    {
     "name": "stdout",
     "output_type": "stream",
     "text": [
      "Adding time...\n"
     ]
    },
    {
     "name": "stderr",
     "output_type": "stream",
     "text": [
      "\n"
     ]
    },
    {
     "data": {
      "application/vnd.jupyter.widget-view+json": {
       "model_id": "d78920c7555444cc94eb9e48f6c94628",
       "version_major": 2,
       "version_minor": 0
      },
      "text/plain": [
       "  0%|          | 0/1817 [00:00<?, ?it/s]"
      ]
     },
     "metadata": {},
     "output_type": "display_data"
    },
    {
     "name": "stdout",
     "output_type": "stream",
     "text": [
      "Adding habitat_suitability...\n",
      "Adding seabed_habitat...\n",
      "Adding sea_surface...\n",
      "Adding sea_wave...\n",
      "Adding wrakken_bank...\n",
      "Adding bathymetry...\n"
     ]
    },
    {
     "name": "stderr",
     "output_type": "stream",
     "text": [
      "\r",
      " 37%|███▋      | 25/67 [10:16<26:19, 37.60s/it]"
     ]
    },
    {
     "name": "stdout",
     "output_type": "stream",
     "text": [
      "data\\processed\\25_WK8_env.nc\n",
      "Grouping file \\\\qarchive\\data_sensors\\b&k\\COVID-19\\20200601_SailingTrip\\WK8\\200603051800_865_mono1_10mV_Pa.wav\n"
     ]
    },
    {
     "name": "stderr",
     "output_type": "stream",
     "text": [
      "100%|██████████| 1805/1805 [00:18<00:00, 95.66it/s]\n"
     ]
    },
    {
     "name": "stdout",
     "output_type": "stream",
     "text": [
      "WK8 1803 1803\n",
      "Adding shipping...\n"
     ]
    },
    {
     "name": "stderr",
     "output_type": "stream",
     "text": [
      "\n",
      "  0%|          | 0/1 [00:00<?, ?it/s]\u001b[A\n",
      "100%|██████████| 1/1 [00:00<00:00,  3.44it/s]\u001b[A"
     ]
    },
    {
     "name": "stdout",
     "output_type": "stream",
     "text": [
      "Adding time...\n"
     ]
    },
    {
     "name": "stderr",
     "output_type": "stream",
     "text": [
      "\n"
     ]
    },
    {
     "data": {
      "application/vnd.jupyter.widget-view+json": {
       "model_id": "22428288e7d84e4ba6d9c6ac3041ffcc",
       "version_major": 2,
       "version_minor": 0
      },
      "text/plain": [
       "  0%|          | 0/1803 [00:00<?, ?it/s]"
      ]
     },
     "metadata": {},
     "output_type": "display_data"
    },
    {
     "name": "stdout",
     "output_type": "stream",
     "text": [
      "Adding habitat_suitability...\n",
      "Adding seabed_habitat...\n",
      "Adding sea_surface...\n",
      "Adding sea_wave...\n",
      "Adding wrakken_bank...\n",
      "Adding bathymetry...\n"
     ]
    },
    {
     "name": "stderr",
     "output_type": "stream",
     "text": [
      "\r",
      " 39%|███▉      | 26/67 [10:42<23:14, 34.02s/it]"
     ]
    },
    {
     "name": "stdout",
     "output_type": "stream",
     "text": [
      "data\\processed\\26_Faulbaums_env.nc\n",
      "Grouping file \\\\qarchive\\data_sensors\\b&k\\COVID-19\\20200713_Simon Stevin\\Faulbaums\\200713094001_887_mono1.wav\n"
     ]
    },
    {
     "name": "stderr",
     "output_type": "stream",
     "text": [
      "100%|██████████| 945/945 [00:09<00:00, 98.12it/s] \n"
     ]
    },
    {
     "name": "stdout",
     "output_type": "stream",
     "text": [
      "Faulbaums 943 943\n",
      "Adding shipping...\n"
     ]
    },
    {
     "name": "stderr",
     "output_type": "stream",
     "text": [
      "\n",
      "  0%|          | 0/1 [00:00<?, ?it/s]\u001b[A\n",
      "100%|██████████| 1/1 [00:00<00:00,  3.37it/s]\u001b[A"
     ]
    },
    {
     "name": "stdout",
     "output_type": "stream",
     "text": [
      "Adding time...\n"
     ]
    },
    {
     "name": "stderr",
     "output_type": "stream",
     "text": [
      "\n"
     ]
    },
    {
     "data": {
      "application/vnd.jupyter.widget-view+json": {
       "model_id": "4f5d40cddd9b45918f25064614d5e262",
       "version_major": 2,
       "version_minor": 0
      },
      "text/plain": [
       "  0%|          | 0/943 [00:00<?, ?it/s]"
      ]
     },
     "metadata": {},
     "output_type": "display_data"
    },
    {
     "name": "stdout",
     "output_type": "stream",
     "text": [
      "Adding habitat_suitability...\n",
      "Adding seabed_habitat...\n",
      "Adding sea_surface...\n",
      "Adding sea_wave...\n",
      "Adding wrakken_bank...\n",
      "Adding bathymetry...\n"
     ]
    },
    {
     "name": "stderr",
     "output_type": "stream",
     "text": [
      "\r",
      " 40%|████      | 27/67 [11:02<19:56, 29.92s/it]"
     ]
    },
    {
     "name": "stdout",
     "output_type": "stream",
     "text": [
      "data\\processed\\27_Grafton_env.nc\n",
      "Grouping file \\\\qarchive\\data_sensors\\b&k\\COVID-19\\20200713_Simon Stevin\\Grafton_10\\200713115855_888_mono1.wav\n"
     ]
    },
    {
     "name": "stderr",
     "output_type": "stream",
     "text": [
      "100%|██████████| 577/577 [00:05<00:00, 101.53it/s]\n"
     ]
    },
    {
     "name": "stdout",
     "output_type": "stream",
     "text": [
      "Grafton 574 574\n",
      "Adding shipping...\n"
     ]
    },
    {
     "name": "stderr",
     "output_type": "stream",
     "text": [
      "\n",
      "  0%|          | 0/1 [00:00<?, ?it/s]\u001b[A\n",
      "100%|██████████| 1/1 [00:00<00:00,  3.26it/s]\u001b[A"
     ]
    },
    {
     "name": "stdout",
     "output_type": "stream",
     "text": [
      "Adding time...\n"
     ]
    },
    {
     "name": "stderr",
     "output_type": "stream",
     "text": [
      "\n"
     ]
    },
    {
     "data": {
      "application/vnd.jupyter.widget-view+json": {
       "model_id": "2a1cbd087c624593a29a909e0a563b86",
       "version_major": 2,
       "version_minor": 0
      },
      "text/plain": [
       "  0%|          | 0/574 [00:00<?, ?it/s]"
      ]
     },
     "metadata": {},
     "output_type": "display_data"
    },
    {
     "name": "stdout",
     "output_type": "stream",
     "text": [
      "Adding habitat_suitability...\n",
      "Adding seabed_habitat...\n",
      "Adding sea_surface...\n",
      "Adding sea_wave...\n",
      "Adding wrakken_bank...\n",
      "Adding bathymetry...\n"
     ]
    },
    {
     "name": "stderr",
     "output_type": "stream",
     "text": [
      "\r",
      " 42%|████▏     | 28/67 [11:18<16:38, 25.59s/it]"
     ]
    },
    {
     "name": "stdout",
     "output_type": "stream",
     "text": [
      "data\\processed\\28_Grafton_env.nc\n",
      "Grouping file \\\\qarchive\\data_sensors\\b&k\\COVID-19\\20200713_Simon Stevin\\Grafton_31.6\\200713121943_889_mono1.wav\n"
     ]
    },
    {
     "name": "stderr",
     "output_type": "stream",
     "text": [
      " 12%|█▏        | 33/279 [00:00<00:02, 99.73it/s] "
     ]
    }
   ],
   "source": [
    "# Define the seadatamanager\n",
    "manager = bpnsdata.SeaDataManager(env_vars)\n",
    "id_name = 'grouped_id'\n",
    "datetime_name = 'grouped_datetime'\n",
    "for i, row in tqdm(metadata.iterrows(), total=len(metadata)):\n",
    "    deployment_path = raw_data_path.joinpath('deployments', row['deployment_path'])\n",
    "    env_path = processed_data_path.joinpath(row['deployment_path'].replace('.nc', '_env.nc'))\n",
    "    print(env_path)\n",
    "    if not env_path.exists():\n",
    "        gps_path = raw_data_path.joinpath('gps', row['gps_path'])\n",
    "\n",
    "        # Read the dataset\n",
    "        ds_deployment = xarray.open_dataset(deployment_path)\n",
    "        ds_deployment = group_ds(ds_deployment, binsize=binsize,\n",
    "                                 n_join_bins=n_join_bins, join_bins_overlap=join_bins_overlap)\n",
    "        # Get the time information from the dataset to get a pandas df\n",
    "        datetime_index = ds_deployment[datetime_name].to_index()\n",
    "        df = pd.DataFrame({\"datetime\": datetime_index.values, 'id': ds_deployment[id_name]})\n",
    "        df = df.drop_duplicates(\"datetime\")\n",
    "        print(metadata.iloc[i]['deployment_name'], len(datetime_index), len(df))\n",
    "        df = df.set_index('datetime')\n",
    "        df.index = df.index.tz_localize('UTC')\n",
    "\n",
    "        # Generate the location information\n",
    "        geodf = manager.add_geodata(df, gps_path, time_tolerance='5s')\n",
    "        geodf = manager.survey_location.add_distance_to_coast(geodf, coastfile='./geo/belgium_coast/basislijn_BE.shp')\n",
    "        geodf_env = manager(geodf)\n",
    "\n",
    "        # Remove the UTC (xarray does not support it?)\n",
    "        geodf_env.index = geodf_env.index.tz_localize(None)\n",
    "        lat = geodf_env['geometry'].y\n",
    "        lon = geodf_env['geometry'].x\n",
    "        df_env = geodf_env.drop(columns=['geometry', 'id'])\n",
    "        env_ds = df_env.to_xarray()\n",
    "        env_ds = env_ds.assign_coords(coords={'lat': lat, 'lon': lon, id_name : ('datetime', df.id.values)})\n",
    "        env_ds = env_ds.swap_dims({'datetime': id_name})\n",
    "\n",
    "        # Clean the previous if not all computed\n",
    "        if len(env_ds[id_name]) != len(ds_deployment[id_name]):\n",
    "            env_ds = env_ds.reindex_like(ds_deployment)\n",
    "        new_ds = ds_deployment.merge(env_ds, compat=\"override\")\n",
    "        new_ds['season'] = new_ds[datetime_name].dt.isocalendar().week\n",
    "\n",
    "        encoding = {'file_path': {'dtype': 'unicode'},\n",
    "                    'start_sample': {'dtype': int, '_FillValue': -1},\n",
    "                    'end_sample': {'dtype': int, '_FillValue': -1},\n",
    "                    'datetime': {'dtype': float, '_FillValue': -1}}\n",
    "        new_ds.to_netcdf(env_path,  encoding=encoding)"
   ]
  },
  {
   "cell_type": "code",
   "execution_count": null,
   "metadata": {
    "pycharm": {
     "name": "#%%\n"
    }
   },
   "outputs": [],
   "source": []
  },
  {
   "cell_type": "code",
   "execution_count": null,
   "metadata": {
    "pycharm": {
     "name": "#%%\n"
    }
   },
   "outputs": [],
   "source": []
  },
  {
   "cell_type": "code",
   "execution_count": null,
   "metadata": {
    "pycharm": {
     "name": "#%%\n"
    }
   },
   "outputs": [],
   "source": []
  },
  {
   "cell_type": "code",
   "execution_count": null,
   "metadata": {},
   "outputs": [],
   "source": []
  }
 ],
 "metadata": {
  "kernelspec": {
   "display_name": "Python 3 (ipykernel)",
   "language": "python",
   "name": "python3"
  },
  "language_info": {
   "codemirror_mode": {
    "name": "ipython",
    "version": 3
   },
   "file_extension": ".py",
   "mimetype": "text/x-python",
   "name": "python",
   "nbconvert_exporter": "python",
   "pygments_lexer": "ipython3",
   "version": "3.9.13"
  }
 },
 "nbformat": 4,
 "nbformat_minor": 4
}
