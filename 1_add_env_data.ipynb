{
 "cells": [
  {
   "cell_type": "markdown",
   "metadata": {
    "pycharm": {
     "name": "#%% md\n"
    }
   },
   "source": [
    "# Add environmental data\n",
    "This notebook is the code to add environmental data to the output of pypam\n",
    "For more information about this process please contact clea.parcerisas@vliz.be or check the documentation of both packages\n",
    "https://lifewatch-pypam.readthedocs.io/en/latest/\n",
    "https://github.com/lifewatch/bpnsdata"
   ]
  },
  {
   "cell_type": "code",
   "execution_count": 1,
   "metadata": {
    "pycharm": {
     "is_executing": true,
     "name": "#%%\n"
    }
   },
   "outputs": [
    {
     "name": "stdout",
     "output_type": "stream",
     "text": [
      "Requirement already satisfied: shapely==1.8.2 in c:\\users\\cleap\\envs\\sound-data-utils\\lib\\site-packages (1.8.2)\n",
      "Requirement already satisfied: bpnsdata in c:\\users\\cleap\\envs\\sound-data-utils\\lib\\site-packages (0.1.9)\n",
      "Requirement already satisfied: netcdf4 in c:\\users\\cleap\\envs\\sound-data-utils\\lib\\site-packages (from bpnsdata) (1.5.8)\n",
      "Requirement already satisfied: geopandas in c:\\users\\cleap\\envs\\sound-data-utils\\lib\\site-packages (from bpnsdata) (0.12.1)\n",
      "Requirement already satisfied: contextily in c:\\users\\cleap\\envs\\sound-data-utils\\lib\\site-packages (from bpnsdata) (1.2.0)\n",
      "Requirement already satisfied: rioxarray in c:\\users\\cleap\\envs\\sound-data-utils\\lib\\site-packages (from bpnsdata) (0.11.1)\n",
      "Requirement already satisfied: owslib in c:\\users\\cleap\\envs\\sound-data-utils\\lib\\site-packages (from bpnsdata) (0.25.0)\n",
      "Requirement already satisfied: tqdm in c:\\users\\cleap\\envs\\sound-data-utils\\lib\\site-packages (from bpnsdata) (4.64.0)\n",
      "Requirement already satisfied: skyfield in c:\\users\\cleap\\envs\\sound-data-utils\\lib\\site-packages (from bpnsdata) (1.42)\n",
      "Requirement already satisfied: erddapy in c:\\users\\cleap\\envs\\sound-data-utils\\lib\\site-packages (from bpnsdata) (1.2.1)\n",
      "Requirement already satisfied: pygeos in c:\\users\\cleap\\envs\\sound-data-utils\\lib\\site-packages (from bpnsdata) (0.12.0)\n",
      "Requirement already satisfied: pillow in c:\\users\\cleap\\envs\\sound-data-utils\\lib\\site-packages (from contextily->bpnsdata) (9.1.1)\n",
      "Requirement already satisfied: joblib in c:\\users\\cleap\\envs\\sound-data-utils\\lib\\site-packages (from contextily->bpnsdata) (1.1.0)\n",
      "Requirement already satisfied: xyzservices in c:\\users\\cleap\\envs\\sound-data-utils\\lib\\site-packages (from contextily->bpnsdata) (2022.4.0)\n",
      "Requirement already satisfied: mercantile in c:\\users\\cleap\\envs\\sound-data-utils\\lib\\site-packages (from contextily->bpnsdata) (1.2.1)\n",
      "Requirement already satisfied: geopy in c:\\users\\cleap\\envs\\sound-data-utils\\lib\\site-packages (from contextily->bpnsdata) (2.2.0)\n",
      "Requirement already satisfied: matplotlib in c:\\users\\cleap\\envs\\sound-data-utils\\lib\\site-packages (from contextily->bpnsdata) (3.5.2)\n",
      "Requirement already satisfied: requests in c:\\users\\cleap\\envs\\sound-data-utils\\lib\\site-packages (from contextily->bpnsdata) (2.27.1)\n",
      "Requirement already satisfied: rasterio in c:\\users\\cleap\\envs\\sound-data-utils\\lib\\site-packages (from contextily->bpnsdata) (1.2.10)\n",
      "Requirement already satisfied: pandas>=0.20.3 in c:\\users\\cleap\\envs\\sound-data-utils\\lib\\site-packages (from erddapy->bpnsdata) (1.4.2)\n",
      "Requirement already satisfied: pyproj>=2.6.1.post1 in c:\\users\\cleap\\envs\\sound-data-utils\\lib\\site-packages (from geopandas->bpnsdata) (3.3.1)\n",
      "Requirement already satisfied: fiona>=1.8 in c:\\users\\cleap\\envs\\sound-data-utils\\lib\\site-packages (from geopandas->bpnsdata) (1.8.21)\n",
      "Requirement already satisfied: packaging in c:\\users\\cleap\\envs\\sound-data-utils\\lib\\site-packages (from geopandas->bpnsdata) (21.3)\n",
      "Requirement already satisfied: shapely>=1.7 in c:\\users\\cleap\\envs\\sound-data-utils\\lib\\site-packages (from geopandas->bpnsdata) (1.8.2)\n",
      "Requirement already satisfied: cftime in c:\\users\\cleap\\envs\\sound-data-utils\\lib\\site-packages (from netcdf4->bpnsdata) (1.6.0)\n",
      "Requirement already satisfied: numpy>=1.9 in c:\\users\\cleap\\envs\\sound-data-utils\\lib\\site-packages (from netcdf4->bpnsdata) (1.22.0)\n",
      "Requirement already satisfied: pytz in c:\\users\\cleap\\envs\\sound-data-utils\\lib\\site-packages (from owslib->bpnsdata) (2022.1)\n",
      "Requirement already satisfied: pyyaml in c:\\users\\cleap\\envs\\sound-data-utils\\lib\\site-packages (from owslib->bpnsdata) (6.0)\n",
      "Requirement already satisfied: python-dateutil>=1.5 in c:\\users\\cleap\\envs\\sound-data-utils\\lib\\site-packages (from owslib->bpnsdata) (2.8.2)\n",
      "Requirement already satisfied: xarray>=0.17 in c:\\users\\cleap\\envs\\sound-data-utils\\lib\\site-packages (from rioxarray->bpnsdata) (2022.3.0)\n",
      "Requirement already satisfied: jplephem>=2.13 in c:\\users\\cleap\\envs\\sound-data-utils\\lib\\site-packages (from skyfield->bpnsdata) (2.17)\n",
      "Requirement already satisfied: sgp4>=2.2 in c:\\users\\cleap\\envs\\sound-data-utils\\lib\\site-packages (from skyfield->bpnsdata) (2.21)\n",
      "Requirement already satisfied: certifi>=2017.4.17 in c:\\users\\cleap\\envs\\sound-data-utils\\lib\\site-packages (from skyfield->bpnsdata) (2022.5.18.1)\n",
      "Requirement already satisfied: colorama in c:\\users\\cleap\\envs\\sound-data-utils\\lib\\site-packages (from tqdm->bpnsdata) (0.4.4)\n",
      "Requirement already satisfied: click>=4.0 in c:\\users\\cleap\\envs\\sound-data-utils\\lib\\site-packages (from fiona>=1.8->geopandas->bpnsdata) (8.1.3)\n",
      "Requirement already satisfied: setuptools in c:\\users\\cleap\\envs\\sound-data-utils\\lib\\site-packages (from fiona>=1.8->geopandas->bpnsdata) (65.4.1)\n",
      "Requirement already satisfied: cligj>=0.5 in c:\\users\\cleap\\envs\\sound-data-utils\\lib\\site-packages (from fiona>=1.8->geopandas->bpnsdata) (0.7.2)\n",
      "Requirement already satisfied: attrs>=17 in c:\\users\\cleap\\envs\\sound-data-utils\\lib\\site-packages (from fiona>=1.8->geopandas->bpnsdata) (21.4.0)\n",
      "Requirement already satisfied: click-plugins>=1.0 in c:\\users\\cleap\\envs\\sound-data-utils\\lib\\site-packages (from fiona>=1.8->geopandas->bpnsdata) (1.1.1)\n",
      "Requirement already satisfied: munch in c:\\users\\cleap\\envs\\sound-data-utils\\lib\\site-packages (from fiona>=1.8->geopandas->bpnsdata) (2.5.0)\n",
      "Requirement already satisfied: gdal~=3.4.1 in c:\\users\\cleap\\envs\\sound-data-utils\\lib\\site-packages (from fiona>=1.8->geopandas->bpnsdata) (3.4.3)\n",
      "Requirement already satisfied: six>=1.7 in c:\\users\\cleap\\envs\\sound-data-utils\\lib\\site-packages (from fiona>=1.8->geopandas->bpnsdata) (1.16.0)\n",
      "Requirement already satisfied: snuggs>=1.4.1 in c:\\users\\cleap\\envs\\sound-data-utils\\lib\\site-packages (from rasterio->contextily->bpnsdata) (1.4.7)\n",
      "Requirement already satisfied: affine in c:\\users\\cleap\\envs\\sound-data-utils\\lib\\site-packages (from rasterio->contextily->bpnsdata) (2.3.1)\n",
      "Requirement already satisfied: urllib3<1.27,>=1.21.1 in c:\\users\\cleap\\envs\\sound-data-utils\\lib\\site-packages (from requests->contextily->bpnsdata) (1.26.9)\n",
      "Requirement already satisfied: charset-normalizer~=2.0.0 in c:\\users\\cleap\\envs\\sound-data-utils\\lib\\site-packages (from requests->contextily->bpnsdata) (2.0.12)\n",
      "Requirement already satisfied: idna<4,>=2.5 in c:\\users\\cleap\\envs\\sound-data-utils\\lib\\site-packages (from requests->contextily->bpnsdata) (3.3)\n",
      "Requirement already satisfied: pyparsing!=3.0.5,>=2.0.2 in c:\\users\\cleap\\envs\\sound-data-utils\\lib\\site-packages (from packaging->geopandas->bpnsdata) (3.0.9)\n",
      "Requirement already satisfied: geographiclib<2,>=1.49 in c:\\users\\cleap\\envs\\sound-data-utils\\lib\\site-packages (from geopy->contextily->bpnsdata) (1.52)\n",
      "Requirement already satisfied: kiwisolver>=1.0.1 in c:\\users\\cleap\\envs\\sound-data-utils\\lib\\site-packages (from matplotlib->contextily->bpnsdata) (1.4.2)\n",
      "Requirement already satisfied: fonttools>=4.22.0 in c:\\users\\cleap\\envs\\sound-data-utils\\lib\\site-packages (from matplotlib->contextily->bpnsdata) (4.33.3)\n",
      "Requirement already satisfied: cycler>=0.10 in c:\\users\\cleap\\envs\\sound-data-utils\\lib\\site-packages (from matplotlib->contextily->bpnsdata) (0.11.0)\n",
      "Requirement already satisfied: pygeos in c:\\users\\cleap\\envs\\sound-data-utils\\lib\\site-packages (0.12.0)\n",
      "Requirement already satisfied: numpy>=1.13 in c:\\users\\cleap\\envs\\sound-data-utils\\lib\\site-packages (from pygeos) (1.22.0)\n"
     ]
    }
   ],
   "source": [
    "# Install the required packages. Geopandas can give problems in Windows machines, so better to install them using wheels when using Windows\n",
    "import sys\n",
    "!{sys.executable} -m pip install shapely==1.8.2\n",
    "!{sys.executable} -m pip install bpnsdata\n",
    "!{sys.executable} -m pip install pygeos"
   ]
  },
  {
   "cell_type": "code",
   "execution_count": 2,
   "metadata": {
    "pycharm": {
     "is_executing": true,
     "name": "#%%\n"
    }
   },
   "outputs": [
    {
     "name": "stderr",
     "output_type": "stream",
     "text": [
      "C:\\Users\\cleap\\Envs\\sound-data-utils\\lib\\site-packages\\geopandas\\_compat.py:123: UserWarning: The Shapely GEOS version (3.10.2-CAPI-1.16.0) is incompatible with the GEOS version PyGEOS was compiled with (3.10.1-CAPI-1.16.0). Conversions between both will be slow.\n",
      "  warnings.warn(\n"
     ]
    }
   ],
   "source": [
    "import os\n",
    "import pathlib\n",
    "import os\n",
    "\n",
    "import geopandas\n",
    "import numpy as np\n",
    "import pandas as pd\n",
    "import xarray\n",
    "from tqdm import tqdm\n",
    "\n",
    "import bpnsdata"
   ]
  },
  {
   "cell_type": "code",
   "execution_count": 3,
   "metadata": {
    "pycharm": {
     "name": "#%%\n"
    }
   },
   "outputs": [],
   "source": [
    "raw_data_path = pathlib.Path('./data/raw_data')\n",
    "processed_data_path = pathlib.Path('./data/processed')\n",
    "metadata_path = raw_data_path.joinpath('data_summary_mda.csv')\n",
    "metadata = pd.read_csv(metadata_path)\n",
    "\n",
    "if not processed_data_path.exists():\n",
    "    os.mkdir(processed_data_path)\n",
    "\n",
    "# survey_params\n",
    "binsize = 1.0\n",
    "n_join_bins = 5\n",
    "join_bins_overlap = 0.6\n",
    "\n",
    "env_vars = [\n",
    "\t\t\"shipping\",\n",
    "\t\t\"time\",\n",
    "\t\t\"habitat_suitability\",\n",
    "\t\t\"seabed_habitat\",\n",
    "\t\t\"sea_surface\",\n",
    "\t\t\"sea_wave\",\n",
    "\t\t\"wrakken_bank\",\n",
    "\t\t\"bathymetry\"\n",
    "    ]"
   ]
  },
  {
   "cell_type": "code",
   "execution_count": 4,
   "metadata": {
    "pycharm": {
     "name": "#%%\n"
    }
   },
   "outputs": [],
   "source": [
    "def group_ds(ds, binsize, n_join_bins=None, join_bins_overlap=None):\n",
    "    if n_join_bins not in [1, None]:\n",
    "        n_overlap = (1 - join_bins_overlap) * n_join_bins\n",
    "        if not n_overlap.is_integer():\n",
    "            print('Warning, the overlap percentage of bins is not an integer. It will be set to the closer integer')\n",
    "        n_overlap = int(n_overlap)\n",
    "        time_window = list((np.arange(0, n_join_bins)) * binsize)\n",
    "        grouped_id = 0\n",
    "        new_ds = xarray.Dataset()\n",
    "\n",
    "        for filename, file_ds in ds.groupby('file_path'):\n",
    "            start_groups_id = np.arange(file_ds.id.min(), file_ds.id.max(), n_overlap)\n",
    "            print('Grouping file %s' % filename)\n",
    "            for start_id_small_window in tqdm(start_groups_id, total=len(start_groups_id - 1), position=0, leave=True):\n",
    "                # Only add the windows that are complete!\n",
    "                if start_id_small_window + n_join_bins < file_ds.id.max():\n",
    "                    selected_ids = np.arange(start_id_small_window, start_id_small_window + n_join_bins)\n",
    "                    small_window = file_ds.sel(id=selected_ids)\n",
    "                    small_window = small_window.expand_dims('grouped_id')\n",
    "                    small_window = small_window.assign_coords({'time_window': ('id', time_window[:len(selected_ids)]),\n",
    "                                                               'grouped_id': [grouped_id]})\n",
    "                    small_window = small_window.swap_dims({'id': 'time_window'})\n",
    "\n",
    "                    if grouped_id == 0:\n",
    "                        new_ds = small_window\n",
    "                    else:\n",
    "                        new_ds = xarray.concat((new_ds, small_window), 'grouped_id')\n",
    "                    grouped_id += 1\n",
    "        new_ds = new_ds.assign_coords({'grouped_datetime': ('grouped_id', new_ds.sel(time_window=0.0).datetime.values),\n",
    "                                       'grouped_start_sample': ('grouped_id',\n",
    "                                                                new_ds.sel(time_window=0.0).start_sample.values),\n",
    "                                       'grouped_end_sample': ('grouped_id',\n",
    "                                                              new_ds.sel(time_window=time_window[-1]).end_sample.values)\n",
    "                                       })\n",
    "        ds = new_ds\n",
    "    return ds"
   ]
  },
  {
   "cell_type": "code",
   "execution_count": 6,
   "metadata": {
    "pycharm": {
     "name": "#%%\n"
    }
   },
   "outputs": [
    {
     "name": "stderr",
     "output_type": "stream",
     "text": [
      "100%|██████████| 67/67 [00:00<00:00, 4288.65it/s]"
     ]
    },
    {
     "name": "stdout",
     "output_type": "stream",
     "text": [
      "data\\processed\\0_Heinkel 111_env.nc\n",
      "data\\processed\\1_HMS Colsay_env.nc\n",
      "data\\processed\\2_Lola_env.nc\n",
      "data\\processed\\3_Buitenratel_env.nc\n",
      "data\\processed\\4_Killmore_env.nc\n",
      "data\\processed\\5_Westhinder_env.nc\n",
      "data\\processed\\6_Reefballs Belwind_env.nc\n",
      "data\\processed\\7_Reefballs CPower_env.nc\n",
      "data\\processed\\8_Gardencity_env.nc\n",
      "data\\processed\\9_Gardencity_env.nc\n",
      "data\\processed\\10_G88_env.nc\n",
      "data\\processed\\11_Loreley_env.nc\n",
      "data\\processed\\12_Loreley_env.nc\n",
      "data\\processed\\13_Loreley_env.nc\n",
      "data\\processed\\14_Nautica Ena_env.nc\n",
      "data\\processed\\15_Senator_env.nc\n",
      "data\\processed\\16_Birkenfels_env.nc\n",
      "data\\processed\\17_Buitenratel_env.nc\n",
      "data\\processed\\18_Gardencity_env.nc\n",
      "data\\processed\\19_Grafton_env.nc\n",
      "data\\processed\\20_Grafton_env.nc\n",
      "data\\processed\\21_Nautica Ena_env.nc\n",
      "data\\processed\\22_Nautica Ena_env.nc\n",
      "data\\processed\\23_VG_env.nc\n",
      "data\\processed\\24_Westhinder_env.nc\n",
      "data\\processed\\25_WK8_env.nc\n",
      "data\\processed\\26_Faulbaums_env.nc\n",
      "data\\processed\\27_Grafton_env.nc\n",
      "data\\processed\\28_Grafton_env.nc\n",
      "data\\processed\\29_Coast_env.nc\n",
      "data\\processed\\30_Loreley_env.nc\n",
      "data\\processed\\31_Nautica Ena_env.nc\n",
      "data\\processed\\32_Noordster_env.nc\n",
      "data\\processed\\33_Paragon_env.nc\n",
      "data\\processed\\34_Renilde_env.nc\n",
      "data\\processed\\35_Heinkel 111_env.nc\n",
      "data\\processed\\36_HMS Colsay_env.nc\n",
      "data\\processed\\37_Lola_env.nc\n",
      "data\\processed\\38_Westerbroek_env.nc\n",
      "data\\processed\\39_Birkenfels_env.nc\n",
      "data\\processed\\40_Gardencity_env.nc\n",
      "data\\processed\\41_Nautica Ena_env.nc\n",
      "data\\processed\\42_Nautica Ena_env.nc\n",
      "data\\processed\\43_Faulbaums_env.nc\n",
      "data\\processed\\44_Westhinder_env.nc\n",
      "data\\processed\\45_WK8_env.nc\n",
      "data\\processed\\46_VG2_env.nc\n",
      "data\\processed\\47_VG2_env.nc\n",
      "data\\processed\\48_Grafton_env.nc\n",
      "data\\processed\\49_Noordster_env.nc\n",
      "data\\processed\\50_Nautica Ena_env.nc\n",
      "data\\processed\\51_Buitenratel_env.nc\n",
      "data\\processed\\52_Buitenratel_env.nc\n",
      "data\\processed\\53_Faulbaums_env.nc\n",
      "data\\processed\\54_Faulbaums_env.nc\n",
      "data\\processed\\55_Birkenfels_env.nc\n",
      "data\\processed\\56_Birkenfels_env.nc\n",
      "data\\processed\\57_WK8_env.nc\n",
      "data\\processed\\58_VG2_env.nc\n",
      "data\\processed\\59_Grafton_env.nc\n",
      "data\\processed\\60_Noordster_env.nc\n",
      "data\\processed\\61_Nautica Ena_env.nc\n",
      "data\\processed\\62_Buitenratel_env.nc\n",
      "data\\processed\\63_Faulbaums_env.nc\n",
      "data\\processed\\64_Westhinder_env.nc\n",
      "data\\processed\\65_Garden City_env.nc\n",
      "data\\processed\\66_Birkenfels_env.nc\n"
     ]
    },
    {
     "name": "stderr",
     "output_type": "stream",
     "text": [
      "\n"
     ]
    }
   ],
   "source": [
    "# Define the seadatamanager\n",
    "manager = bpnsdata.SeaDataManager(env_vars)\n",
    "id_name = 'grouped_id'\n",
    "datetime_name = 'grouped_datetime'\n",
    "for i, row in tqdm(metadata.iterrows(), total=len(metadata)):\n",
    "    deployment_path = raw_data_path.joinpath('deployments', row['deployment_path'])\n",
    "    env_path = processed_data_path.joinpath(row['deployment_path'].replace('.nc', '_env.nc'))\n",
    "    print(env_path)\n",
    "    if not env_path.exists():\n",
    "        gps_path = raw_data_path.joinpath('gps', row['gps_path'])\n",
    "\n",
    "        # Read the dataset\n",
    "        ds_deployment = xarray.open_dataset(deployment_path)\n",
    "        ds_deployment = group_ds(ds_deployment, binsize=binsize,\n",
    "                                 n_join_bins=n_join_bins, join_bins_overlap=join_bins_overlap)\n",
    "        # Get the time information from the dataset to get a pandas df\n",
    "        datetime_index = ds_deployment[datetime_name].to_index()\n",
    "        df = pd.DataFrame({\"datetime\": datetime_index.values, 'id': ds_deployment[id_name]})\n",
    "        df = df.drop_duplicates(\"datetime\")\n",
    "        print(metadata.iloc[i]['deployment_name'], len(datetime_index), len(df))\n",
    "        df = df.set_index('datetime')\n",
    "        df.index = df.index.tz_localize('UTC')\n",
    "\n",
    "        # Generate the location information\n",
    "        geodf = manager.add_geodata(df, gps_path, time_tolerance='5s')\n",
    "        geodf = manager.survey_location.add_distance_to_coast(geodf, coastfile='./geo/belgium_coast/basislijn_BE.shp')\n",
    "        geodf_env = manager(geodf)\n",
    "\n",
    "        # Remove the UTC (xarray does not support it?)\n",
    "        geodf_env.index = geodf_env.index.tz_localize(None)\n",
    "        lat = geodf_env['geometry'].y\n",
    "        lon = geodf_env['geometry'].x\n",
    "        df_env = geodf_env.drop(columns=['geometry', 'id'])\n",
    "        env_ds = df_env.to_xarray()\n",
    "        env_ds = env_ds.assign_coords(coords={'lat': lat, 'lon': lon, id_name : ('datetime', df.id.values)})\n",
    "        env_ds = env_ds.swap_dims({'datetime': id_name})\n",
    "\n",
    "        # Clean the previous if not all computed\n",
    "        if len(env_ds[id_name]) != len(ds_deployment[id_name]):\n",
    "            env_ds = env_ds.reindex_like(ds_deployment)\n",
    "        new_ds = ds_deployment.merge(env_ds, compat=\"override\")\n",
    "        new_ds['season'] = new_ds[datetime_name].dt.isocalendar().week\n",
    "\n",
    "        encoding = {'file_path': {'dtype': 'unicode'},\n",
    "                    'start_sample': {'dtype': int, '_FillValue': -1},\n",
    "                    'end_sample': {'dtype': int, '_FillValue': -1},\n",
    "                    'datetime': {'dtype': float, '_FillValue': -1}}\n",
    "        new_ds.to_netcdf(env_path,  encoding=encoding)"
   ]
  },
  {
   "cell_type": "code",
   "execution_count": null,
   "metadata": {
    "pycharm": {
     "name": "#%%\n"
    }
   },
   "outputs": [],
   "source": []
  },
  {
   "cell_type": "code",
   "execution_count": null,
   "metadata": {
    "pycharm": {
     "name": "#%%\n"
    }
   },
   "outputs": [],
   "source": []
  },
  {
   "cell_type": "code",
   "execution_count": null,
   "outputs": [],
   "source": [],
   "metadata": {
    "collapsed": false,
    "pycharm": {
     "name": "#%%\n"
    }
   }
  },
  {
   "cell_type": "code",
   "execution_count": null,
   "metadata": {},
   "outputs": [],
   "source": []
  }
 ],
 "metadata": {
  "kernelspec": {
   "display_name": "Python 3 (ipykernel)",
   "language": "python",
   "name": "python3"
  },
  "language_info": {
   "codemirror_mode": {
    "name": "ipython",
    "version": 3
   },
   "file_extension": ".py",
   "mimetype": "text/x-python",
   "name": "python",
   "nbconvert_exporter": "python",
   "pygments_lexer": "ipython3",
   "version": "3.9.13"
  }
 },
 "nbformat": 4,
 "nbformat_minor": 4
}