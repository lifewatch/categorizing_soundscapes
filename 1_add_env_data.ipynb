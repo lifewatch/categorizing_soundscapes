{
 "cells": [
  {
   "cell_type": "markdown",
   "metadata": {
    "pycharm": {
     "name": "#%% md\n"
    }
   },
   "source": [
    "# Add environmental data\n",
    "This notebook is the code to add environmental data to the output of pypam\n",
    "For more information about this process please contact clea.parcerisas@vliz.be or check the documentation of both packages\n",
    "https://lifewatch-pypam.readthedocs.io/en/latest/\n",
    "https://github.com/lifewatch/bpnsdata"
   ]
  },
  {
   "cell_type": "code",
   "execution_count": 15,
   "metadata": {
    "pycharm": {
     "name": "#%%\n"
    }
   },
   "outputs": [
    {
     "name": "stdout",
     "output_type": "stream",
     "text": [
      "Requirement already satisfied: bpnsdata in c:\\users\\cleap\\envs\\sound-data-utils\\lib\\site-packages (0.1.9)\n",
      "Requirement already satisfied: geopandas in c:\\users\\cleap\\envs\\sound-data-utils\\lib\\site-packages (from bpnsdata) (0.12.1)\n",
      "Requirement already satisfied: owslib in c:\\users\\cleap\\envs\\sound-data-utils\\lib\\site-packages (from bpnsdata) (0.25.0)\n",
      "Requirement already satisfied: rioxarray in c:\\users\\cleap\\envs\\sound-data-utils\\lib\\site-packages (from bpnsdata) (0.11.1)\n",
      "Requirement already satisfied: contextily in c:\\users\\cleap\\envs\\sound-data-utils\\lib\\site-packages (from bpnsdata) (1.2.0)\n",
      "Requirement already satisfied: pygeos in c:\\users\\cleap\\envs\\sound-data-utils\\lib\\site-packages (from bpnsdata) (0.12.0)\n",
      "Requirement already satisfied: tqdm in c:\\users\\cleap\\envs\\sound-data-utils\\lib\\site-packages (from bpnsdata) (4.64.0)\n",
      "Requirement already satisfied: skyfield in c:\\users\\cleap\\envs\\sound-data-utils\\lib\\site-packages (from bpnsdata) (1.42)\n",
      "Requirement already satisfied: erddapy in c:\\users\\cleap\\envs\\sound-data-utils\\lib\\site-packages (from bpnsdata) (1.2.1)\n",
      "Requirement already satisfied: netcdf4 in c:\\users\\cleap\\envs\\sound-data-utils\\lib\\site-packages (from bpnsdata) (1.5.8)\n",
      "Requirement already satisfied: joblib in c:\\users\\cleap\\envs\\sound-data-utils\\lib\\site-packages (from contextily->bpnsdata) (1.1.0)\n",
      "Requirement already satisfied: geopy in c:\\users\\cleap\\envs\\sound-data-utils\\lib\\site-packages (from contextily->bpnsdata) (2.2.0)\n",
      "Requirement already satisfied: xyzservices in c:\\users\\cleap\\envs\\sound-data-utils\\lib\\site-packages (from contextily->bpnsdata) (2022.4.0)\n",
      "Requirement already satisfied: mercantile in c:\\users\\cleap\\envs\\sound-data-utils\\lib\\site-packages (from contextily->bpnsdata) (1.2.1)\n",
      "Requirement already satisfied: matplotlib in c:\\users\\cleap\\envs\\sound-data-utils\\lib\\site-packages (from contextily->bpnsdata) (3.5.2)\n",
      "Requirement already satisfied: pillow in c:\\users\\cleap\\envs\\sound-data-utils\\lib\\site-packages (from contextily->bpnsdata) (9.1.1)\n",
      "Requirement already satisfied: rasterio in c:\\users\\cleap\\envs\\sound-data-utils\\lib\\site-packages (from contextily->bpnsdata) (1.2.10)\n",
      "Requirement already satisfied: requests in c:\\users\\cleap\\envs\\sound-data-utils\\lib\\site-packages (from contextily->bpnsdata) (2.27.1)\n",
      "Requirement already satisfied: pandas>=0.20.3 in c:\\users\\cleap\\envs\\sound-data-utils\\lib\\site-packages (from erddapy->bpnsdata) (1.4.2)\n",
      "Requirement already satisfied: shapely>=1.7 in c:\\users\\cleap\\envs\\sound-data-utils\\lib\\site-packages (from geopandas->bpnsdata) (1.8.2)\n",
      "Requirement already satisfied: pyproj>=2.6.1.post1 in c:\\users\\cleap\\envs\\sound-data-utils\\lib\\site-packages (from geopandas->bpnsdata) (3.3.1)\n",
      "Requirement already satisfied: packaging in c:\\users\\cleap\\envs\\sound-data-utils\\lib\\site-packages (from geopandas->bpnsdata) (21.3)\n",
      "Requirement already satisfied: fiona>=1.8 in c:\\users\\cleap\\envs\\sound-data-utils\\lib\\site-packages (from geopandas->bpnsdata) (1.8.21)\n",
      "Requirement already satisfied: numpy>=1.9 in c:\\users\\cleap\\envs\\sound-data-utils\\lib\\site-packages (from netcdf4->bpnsdata) (1.22.0)\n",
      "Requirement already satisfied: cftime in c:\\users\\cleap\\envs\\sound-data-utils\\lib\\site-packages (from netcdf4->bpnsdata) (1.6.0)\n",
      "Requirement already satisfied: python-dateutil>=1.5 in c:\\users\\cleap\\envs\\sound-data-utils\\lib\\site-packages (from owslib->bpnsdata) (2.8.2)\n",
      "Requirement already satisfied: pyyaml in c:\\users\\cleap\\envs\\sound-data-utils\\lib\\site-packages (from owslib->bpnsdata) (6.0)\n",
      "Requirement already satisfied: pytz in c:\\users\\cleap\\envs\\sound-data-utils\\lib\\site-packages (from owslib->bpnsdata) (2022.1)\n",
      "Requirement already satisfied: xarray>=0.17 in c:\\users\\cleap\\envs\\sound-data-utils\\lib\\site-packages (from rioxarray->bpnsdata) (2022.3.0)\n",
      "Requirement already satisfied: certifi>=2017.4.17 in c:\\users\\cleap\\envs\\sound-data-utils\\lib\\site-packages (from skyfield->bpnsdata) (2022.5.18.1)\n",
      "Requirement already satisfied: sgp4>=2.2 in c:\\users\\cleap\\envs\\sound-data-utils\\lib\\site-packages (from skyfield->bpnsdata) (2.21)\n",
      "Requirement already satisfied: jplephem>=2.13 in c:\\users\\cleap\\envs\\sound-data-utils\\lib\\site-packages (from skyfield->bpnsdata) (2.17)\n",
      "Requirement already satisfied: colorama in c:\\users\\cleap\\envs\\sound-data-utils\\lib\\site-packages (from tqdm->bpnsdata) (0.4.4)\n",
      "Requirement already satisfied: munch in c:\\users\\cleap\\envs\\sound-data-utils\\lib\\site-packages (from fiona>=1.8->geopandas->bpnsdata) (2.5.0)\n",
      "Requirement already satisfied: gdal~=3.4.1 in c:\\users\\cleap\\envs\\sound-data-utils\\lib\\site-packages (from fiona>=1.8->geopandas->bpnsdata) (3.4.3)\n",
      "Requirement already satisfied: click>=4.0 in c:\\users\\cleap\\envs\\sound-data-utils\\lib\\site-packages (from fiona>=1.8->geopandas->bpnsdata) (8.1.3)\n",
      "Requirement already satisfied: click-plugins>=1.0 in c:\\users\\cleap\\envs\\sound-data-utils\\lib\\site-packages (from fiona>=1.8->geopandas->bpnsdata) (1.1.1)\n",
      "Requirement already satisfied: attrs>=17 in c:\\users\\cleap\\envs\\sound-data-utils\\lib\\site-packages (from fiona>=1.8->geopandas->bpnsdata) (21.4.0)\n",
      "Requirement already satisfied: six>=1.7 in c:\\users\\cleap\\envs\\sound-data-utils\\lib\\site-packages (from fiona>=1.8->geopandas->bpnsdata) (1.16.0)\n",
      "Requirement already satisfied: cligj>=0.5 in c:\\users\\cleap\\envs\\sound-data-utils\\lib\\site-packages (from fiona>=1.8->geopandas->bpnsdata) (0.7.2)\n",
      "Requirement already satisfied: setuptools in c:\\users\\cleap\\envs\\sound-data-utils\\lib\\site-packages (from fiona>=1.8->geopandas->bpnsdata) (65.4.1)\n",
      "Requirement already satisfied: snuggs>=1.4.1 in c:\\users\\cleap\\envs\\sound-data-utils\\lib\\site-packages (from rasterio->contextily->bpnsdata) (1.4.7)\n",
      "Requirement already satisfied: affine in c:\\users\\cleap\\envs\\sound-data-utils\\lib\\site-packages (from rasterio->contextily->bpnsdata) (2.3.1)\n",
      "Requirement already satisfied: idna<4,>=2.5 in c:\\users\\cleap\\envs\\sound-data-utils\\lib\\site-packages (from requests->contextily->bpnsdata) (3.3)\n",
      "Requirement already satisfied: urllib3<1.27,>=1.21.1 in c:\\users\\cleap\\envs\\sound-data-utils\\lib\\site-packages (from requests->contextily->bpnsdata) (1.26.9)\n",
      "Requirement already satisfied: charset-normalizer~=2.0.0 in c:\\users\\cleap\\envs\\sound-data-utils\\lib\\site-packages (from requests->contextily->bpnsdata) (2.0.12)\n",
      "Requirement already satisfied: pyparsing!=3.0.5,>=2.0.2 in c:\\users\\cleap\\envs\\sound-data-utils\\lib\\site-packages (from packaging->geopandas->bpnsdata) (3.0.9)\n",
      "Requirement already satisfied: geographiclib<2,>=1.49 in c:\\users\\cleap\\envs\\sound-data-utils\\lib\\site-packages (from geopy->contextily->bpnsdata) (1.52)\n",
      "Requirement already satisfied: cycler>=0.10 in c:\\users\\cleap\\envs\\sound-data-utils\\lib\\site-packages (from matplotlib->contextily->bpnsdata) (0.11.0)\n",
      "Requirement already satisfied: kiwisolver>=1.0.1 in c:\\users\\cleap\\envs\\sound-data-utils\\lib\\site-packages (from matplotlib->contextily->bpnsdata) (1.4.2)\n",
      "Requirement already satisfied: fonttools>=4.22.0 in c:\\users\\cleap\\envs\\sound-data-utils\\lib\\site-packages (from matplotlib->contextily->bpnsdata) (4.33.3)\n",
      "Requirement already satisfied: GDAL in c:\\users\\cleap\\envs\\sound-data-utils\\lib\\site-packages (3.4.3)\n",
      "Requirement already satisfied: rasterio in c:\\users\\cleap\\envs\\sound-data-utils\\lib\\site-packages (1.2.10)\n",
      "Requirement already satisfied: click-plugins in c:\\users\\cleap\\envs\\sound-data-utils\\lib\\site-packages (from rasterio) (1.1.1)\n",
      "Requirement already satisfied: certifi in c:\\users\\cleap\\envs\\sound-data-utils\\lib\\site-packages (from rasterio) (2022.5.18.1)\n",
      "Requirement already satisfied: affine in c:\\users\\cleap\\envs\\sound-data-utils\\lib\\site-packages (from rasterio) (2.3.1)\n",
      "Requirement already satisfied: snuggs>=1.4.1 in c:\\users\\cleap\\envs\\sound-data-utils\\lib\\site-packages (from rasterio) (1.4.7)\n",
      "Requirement already satisfied: click>=4.0 in c:\\users\\cleap\\envs\\sound-data-utils\\lib\\site-packages (from rasterio) (8.1.3)\n",
      "Requirement already satisfied: numpy in c:\\users\\cleap\\envs\\sound-data-utils\\lib\\site-packages (from rasterio) (1.22.0)\n",
      "Requirement already satisfied: attrs in c:\\users\\cleap\\envs\\sound-data-utils\\lib\\site-packages (from rasterio) (21.4.0)\n",
      "Requirement already satisfied: gdal~=3.4.1 in c:\\users\\cleap\\envs\\sound-data-utils\\lib\\site-packages (from rasterio) (3.4.3)\n",
      "Requirement already satisfied: setuptools in c:\\users\\cleap\\envs\\sound-data-utils\\lib\\site-packages (from rasterio) (65.4.1)\n",
      "Requirement already satisfied: cligj>=0.5 in c:\\users\\cleap\\envs\\sound-data-utils\\lib\\site-packages (from rasterio) (0.7.2)\n",
      "Requirement already satisfied: colorama in c:\\users\\cleap\\envs\\sound-data-utils\\lib\\site-packages (from click>=4.0->rasterio) (0.4.4)\n",
      "Requirement already satisfied: pyparsing>=2.1.6 in c:\\users\\cleap\\envs\\sound-data-utils\\lib\\site-packages (from snuggs>=1.4.1->rasterio) (3.0.9)\n",
      "Requirement already satisfied: Fiona in c:\\users\\cleap\\envs\\sound-data-utils\\lib\\site-packages (1.8.21)\n",
      "Requirement already satisfied: attrs>=17 in c:\\users\\cleap\\envs\\sound-data-utils\\lib\\site-packages (from Fiona) (21.4.0)\n",
      "Requirement already satisfied: six>=1.7 in c:\\users\\cleap\\envs\\sound-data-utils\\lib\\site-packages (from Fiona) (1.16.0)\n",
      "Requirement already satisfied: munch in c:\\users\\cleap\\envs\\sound-data-utils\\lib\\site-packages (from Fiona) (2.5.0)\n",
      "Requirement already satisfied: cligj>=0.5 in c:\\users\\cleap\\envs\\sound-data-utils\\lib\\site-packages (from Fiona) (0.7.2)\n",
      "Requirement already satisfied: gdal~=3.4.1 in c:\\users\\cleap\\envs\\sound-data-utils\\lib\\site-packages (from Fiona) (3.4.3)\n",
      "Requirement already satisfied: setuptools in c:\\users\\cleap\\envs\\sound-data-utils\\lib\\site-packages (from Fiona) (65.4.1)\n",
      "Requirement already satisfied: click>=4.0 in c:\\users\\cleap\\envs\\sound-data-utils\\lib\\site-packages (from Fiona) (8.1.3)\n",
      "Requirement already satisfied: click-plugins>=1.0 in c:\\users\\cleap\\envs\\sound-data-utils\\lib\\site-packages (from Fiona) (1.1.1)\n",
      "Requirement already satisfied: certifi in c:\\users\\cleap\\envs\\sound-data-utils\\lib\\site-packages (from Fiona) (2022.5.18.1)\n",
      "Requirement already satisfied: colorama in c:\\users\\cleap\\envs\\sound-data-utils\\lib\\site-packages (from click>=4.0->Fiona) (0.4.4)\n",
      "Requirement already satisfied: geopandas in c:\\users\\cleap\\envs\\sound-data-utils\\lib\\site-packages (0.12.1)\n",
      "Requirement already satisfied: packaging in c:\\users\\cleap\\envs\\sound-data-utils\\lib\\site-packages (from geopandas) (21.3)\n",
      "Requirement already satisfied: pyproj>=2.6.1.post1 in c:\\users\\cleap\\envs\\sound-data-utils\\lib\\site-packages (from geopandas) (3.3.1)\n",
      "Requirement already satisfied: shapely>=1.7 in c:\\users\\cleap\\envs\\sound-data-utils\\lib\\site-packages (from geopandas) (1.8.2)\n",
      "Requirement already satisfied: pandas>=1.0.0 in c:\\users\\cleap\\envs\\sound-data-utils\\lib\\site-packages (from geopandas) (1.4.2)\n",
      "Requirement already satisfied: fiona>=1.8 in c:\\users\\cleap\\envs\\sound-data-utils\\lib\\site-packages (from geopandas) (1.8.21)\n",
      "Requirement already satisfied: munch in c:\\users\\cleap\\envs\\sound-data-utils\\lib\\site-packages (from fiona>=1.8->geopandas) (2.5.0)\n",
      "Requirement already satisfied: gdal~=3.4.1 in c:\\users\\cleap\\envs\\sound-data-utils\\lib\\site-packages (from fiona>=1.8->geopandas) (3.4.3)\n",
      "Requirement already satisfied: click>=4.0 in c:\\users\\cleap\\envs\\sound-data-utils\\lib\\site-packages (from fiona>=1.8->geopandas) (8.1.3)\n",
      "Requirement already satisfied: cligj>=0.5 in c:\\users\\cleap\\envs\\sound-data-utils\\lib\\site-packages (from fiona>=1.8->geopandas) (0.7.2)\n",
      "Requirement already satisfied: click-plugins>=1.0 in c:\\users\\cleap\\envs\\sound-data-utils\\lib\\site-packages (from fiona>=1.8->geopandas) (1.1.1)\n",
      "Requirement already satisfied: six>=1.7 in c:\\users\\cleap\\envs\\sound-data-utils\\lib\\site-packages (from fiona>=1.8->geopandas) (1.16.0)\n",
      "Requirement already satisfied: setuptools in c:\\users\\cleap\\envs\\sound-data-utils\\lib\\site-packages (from fiona>=1.8->geopandas) (65.4.1)\n",
      "Requirement already satisfied: attrs>=17 in c:\\users\\cleap\\envs\\sound-data-utils\\lib\\site-packages (from fiona>=1.8->geopandas) (21.4.0)\n",
      "Requirement already satisfied: certifi in c:\\users\\cleap\\envs\\sound-data-utils\\lib\\site-packages (from fiona>=1.8->geopandas) (2022.5.18.1)\n",
      "Requirement already satisfied: pytz>=2020.1 in c:\\users\\cleap\\envs\\sound-data-utils\\lib\\site-packages (from pandas>=1.0.0->geopandas) (2022.1)\n",
      "Requirement already satisfied: python-dateutil>=2.8.1 in c:\\users\\cleap\\envs\\sound-data-utils\\lib\\site-packages (from pandas>=1.0.0->geopandas) (2.8.2)\n",
      "Requirement already satisfied: numpy>=1.18.5 in c:\\users\\cleap\\envs\\sound-data-utils\\lib\\site-packages (from pandas>=1.0.0->geopandas) (1.22.0)\n",
      "Requirement already satisfied: pyparsing!=3.0.5,>=2.0.2 in c:\\users\\cleap\\envs\\sound-data-utils\\lib\\site-packages (from packaging->geopandas) (3.0.9)\n",
      "Requirement already satisfied: colorama in c:\\users\\cleap\\envs\\sound-data-utils\\lib\\site-packages (from click>=4.0->fiona>=1.8->geopandas) (0.4.4)\n"
     ]
    }
   ],
   "source": [
    "# Install the required packages. Geopandas can give problems in Windows machines, so better to install them using wheels when using Windows\n",
    "import os\n",
    "!pip install bpnsdata\n",
    "!pip install GDAL\n",
    "!pip install rasterio\n",
    "!pip install Fiona\n",
    "!pip install geopandas"
   ]
  },
  {
   "cell_type": "code",
   "execution_count": 16,
   "metadata": {
    "pycharm": {
     "name": "#%%\n"
    }
   },
   "outputs": [],
   "source": [
    "import pathlib\n",
    "import os\n",
    "\n",
    "import geopandas\n",
    "import numpy as np\n",
    "import pandas as pd\n",
    "import xarray\n",
    "from tqdm import tqdm\n",
    "import bpnsdata"
   ]
  },
  {
   "cell_type": "code",
   "execution_count": 20,
   "metadata": {
    "pycharm": {
     "name": "#%%\n"
    }
   },
   "outputs": [],
   "source": [
    "raw_data_path = pathlib.Path('./data/raw_data')\n",
    "processed_data_path = pathlib.Path('./data/processed')\n",
    "metadata_path = raw_data_path.joinpath('data_summary_mda.csv')\n",
    "metadata = pd.read_csv(metadata_path)\n",
    "\n",
    "if not processed_data_path.exists():\n",
    "    os.mkdir(processed_data_path)\n",
    "\n",
    "# survey_params\n",
    "binsize = 1.0\n",
    "n_join_bins = 5\n",
    "join_bins_overlap = 0.6\n",
    "\n",
    "env_vars = [\n",
    "\t\t\"shipping\",\n",
    "\t\t\"time\",\n",
    "\t\t\"habitat_suitability\",\n",
    "\t\t\"seabed_habitat\",\n",
    "\t\t\"sea_surface\",\n",
    "\t\t\"sea_wave\",\n",
    "\t\t\"rain\",\n",
    "\t\t\"wind\",\n",
    "\t\t\"wrakken_bank\",\n",
    "\t\t\"bathymetry\"\n",
    "    ]"
   ]
  },
  {
   "cell_type": "code",
   "execution_count": 21,
   "metadata": {
    "pycharm": {
     "name": "#%%\n"
    }
   },
   "outputs": [],
   "source": [
    "def group_ds(ds, binsize, n_join_bins=None, join_bins_overlap=None):\n",
    "    if n_join_bins not in [1, None]:\n",
    "        n_overlap = (1 - join_bins_overlap) * n_join_bins\n",
    "        if not n_overlap.is_integer():\n",
    "            print('Warning, the overlap percentage of bins is not an integer. It will be set to the closer integer')\n",
    "        n_overlap = int(n_overlap)\n",
    "        time_window = list((np.arange(0, n_join_bins)) * binsize)\n",
    "        grouped_id = 0\n",
    "        new_ds = xarray.Dataset()\n",
    "\n",
    "        for filename, file_ds in ds.groupby('file_path'):\n",
    "            start_groups_id = np.arange(file_ds.id.min(), file_ds.id.max(), n_overlap)\n",
    "            print('Grouping file %s' % filename)\n",
    "            for start_id_small_window in tqdm(start_groups_id, total=len(start_groups_id - 1), position=0, leave=True):\n",
    "                # Only add the windows that are complete!\n",
    "                if start_id_small_window + n_join_bins < file_ds.id.max():\n",
    "                    selected_ids = np.arange(start_id_small_window, start_id_small_window + n_join_bins)\n",
    "                    small_window = file_ds.sel(id=selected_ids)\n",
    "                    small_window = small_window.expand_dims('grouped_id')\n",
    "                    small_window = small_window.assign_coords({'time_window': ('id', time_window[:len(selected_ids)]),\n",
    "                                                               'grouped_id': [grouped_id]})\n",
    "                    small_window = small_window.swap_dims({'id': 'time_window'})\n",
    "\n",
    "                    if grouped_id == 0:\n",
    "                        new_ds = small_window\n",
    "                    else:\n",
    "                        new_ds = xarray.concat((new_ds, small_window), 'grouped_id')\n",
    "                    grouped_id += 1\n",
    "        new_ds = new_ds.assign_coords({'grouped_datetime': ('grouped_id', new_ds.sel(time_window=0.0).datetime.values),\n",
    "                                       'grouped_start_sample': ('grouped_id',\n",
    "                                                                new_ds.sel(time_window=0.0).start_sample.values),\n",
    "                                       'grouped_end_sample': ('grouped_id',\n",
    "                                                              new_ds.sel(time_window=time_window[-1]).end_sample.values)\n",
    "                                       })\n",
    "        ds = new_ds\n",
    "    return ds"
   ]
  },
  {
   "cell_type": "code",
   "execution_count": 23,
   "metadata": {
    "pycharm": {
     "name": "#%%\n"
    }
   },
   "outputs": [
    {
     "name": "stderr",
     "output_type": "stream",
     "text": [
      "  0%|          | 0/67 [00:00<?, ?it/s]"
     ]
    },
    {
     "name": "stdout",
     "output_type": "stream",
     "text": [
      "Grouping file \\\\qarchive\\data_sensors\\b&k\\COVID-19\\20200429_Zeekat\\Heinkel 111\\200429095249_810_mono1.wav\n"
     ]
    },
    {
     "name": "stderr",
     "output_type": "stream",
     "text": [
      "100%|██████████| 1532/1532 [00:12<00:00, 119.85it/s]\n"
     ]
    },
    {
     "name": "stdout",
     "output_type": "stream",
     "text": [
      "Heinkel 111 1529 1529\n",
      "Adding shipping...\n"
     ]
    },
    {
     "name": "stderr",
     "output_type": "stream",
     "text": [
      "\n",
      "  0%|          | 0/1 [00:00<?, ?it/s]\u001B[A\n",
      "100%|██████████| 1/1 [00:00<00:00,  4.57it/s]\u001B[A"
     ]
    },
    {
     "name": "stdout",
     "output_type": "stream",
     "text": [
      "Adding time...\n"
     ]
    },
    {
     "name": "stderr",
     "output_type": "stream",
     "text": [
      "\n"
     ]
    },
    {
     "data": {
      "text/plain": "  0%|          | 0/1529 [00:00<?, ?it/s]",
      "application/vnd.jupyter.widget-view+json": {
       "version_major": 2,
       "version_minor": 0,
       "model_id": "1db9305cf0854e06989ee7281882394d"
      },
      "application/json": {
       "n": 0,
       "total": 1529,
       "elapsed": 0.015628576278686523,
       "ncols": null,
       "nrows": null,
       "prefix": "",
       "ascii": false,
       "unit": "it",
       "unit_scale": false,
       "rate": null,
       "bar_format": null,
       "postfix": null,
       "unit_divisor": 1000,
       "initial": 0,
       "colour": null
      }
     },
     "metadata": {},
     "output_type": "display_data"
    },
    {
     "name": "stdout",
     "output_type": "stream",
     "text": [
      "Adding habitat_suitability...\n",
      "Adding seabed_habitat...\n",
      "Adding sea_surface...\n",
      "Adding sea_wave...\n",
      "Adding rain...\n"
     ]
    },
    {
     "name": "stderr",
     "output_type": "stream",
     "text": [
      "\n",
      "100%|██████████| 5/5 [00:00<?, ?it/s]\u001B[A\n"
     ]
    },
    {
     "name": "stdout",
     "output_type": "stream",
     "text": [
      "Adding wind...\n"
     ]
    },
    {
     "name": "stderr",
     "output_type": "stream",
     "text": [
      "\n",
      "0it [00:00, ?it/s]\u001B[A\n"
     ]
    },
    {
     "name": "stdout",
     "output_type": "stream",
     "text": [
      "Adding wrakken_bank...\n",
      "Adding bathymetry...\n"
     ]
    },
    {
     "name": "stderr",
     "output_type": "stream",
     "text": [
      "  0%|          | 0/67 [00:28<?, ?it/s]\n"
     ]
    },
    {
     "ename": "PermissionError",
     "evalue": "[Errno 13] Permission denied: b'C:\\\\Users\\\\cleap\\\\Documents\\\\code\\\\categorizing_soundscapes\\\\data\\\\raw_data\\\\data\\\\processed\\\\0_Heinkel 111_env.nc'",
     "output_type": "error",
     "traceback": [
      "\u001B[1;31m---------------------------------------------------------------------------\u001B[0m",
      "\u001B[1;31mKeyError\u001B[0m                                  Traceback (most recent call last)",
      "File \u001B[1;32m~\\Envs\\sound-data-utils\\lib\\site-packages\\xarray\\backends\\file_manager.py:199\u001B[0m, in \u001B[0;36mCachingFileManager._acquire_with_cache_info\u001B[1;34m(self, needs_lock)\u001B[0m\n\u001B[0;32m    198\u001B[0m \u001B[38;5;28;01mtry\u001B[39;00m:\n\u001B[1;32m--> 199\u001B[0m     file \u001B[38;5;241m=\u001B[39m \u001B[38;5;28;43mself\u001B[39;49m\u001B[38;5;241;43m.\u001B[39;49m\u001B[43m_cache\u001B[49m\u001B[43m[\u001B[49m\u001B[38;5;28;43mself\u001B[39;49m\u001B[38;5;241;43m.\u001B[39;49m\u001B[43m_key\u001B[49m\u001B[43m]\u001B[49m\n\u001B[0;32m    200\u001B[0m \u001B[38;5;28;01mexcept\u001B[39;00m \u001B[38;5;167;01mKeyError\u001B[39;00m:\n",
      "File \u001B[1;32m~\\Envs\\sound-data-utils\\lib\\site-packages\\xarray\\backends\\lru_cache.py:53\u001B[0m, in \u001B[0;36mLRUCache.__getitem__\u001B[1;34m(self, key)\u001B[0m\n\u001B[0;32m     52\u001B[0m \u001B[38;5;28;01mwith\u001B[39;00m \u001B[38;5;28mself\u001B[39m\u001B[38;5;241m.\u001B[39m_lock:\n\u001B[1;32m---> 53\u001B[0m     value \u001B[38;5;241m=\u001B[39m \u001B[38;5;28;43mself\u001B[39;49m\u001B[38;5;241;43m.\u001B[39;49m\u001B[43m_cache\u001B[49m\u001B[43m[\u001B[49m\u001B[43mkey\u001B[49m\u001B[43m]\u001B[49m\n\u001B[0;32m     54\u001B[0m     \u001B[38;5;28mself\u001B[39m\u001B[38;5;241m.\u001B[39m_cache\u001B[38;5;241m.\u001B[39mmove_to_end(key)\n",
      "\u001B[1;31mKeyError\u001B[0m: [<class 'netCDF4._netCDF4.Dataset'>, ('C:\\\\Users\\\\cleap\\\\Documents\\\\code\\\\categorizing_soundscapes\\\\data\\\\raw_data\\\\data\\\\processed\\\\0_Heinkel 111_env.nc',), 'a', (('clobber', True), ('diskless', False), ('format', 'NETCDF4'), ('persist', False))]",
      "\nDuring handling of the above exception, another exception occurred:\n",
      "\u001B[1;31mPermissionError\u001B[0m                           Traceback (most recent call last)",
      "Input \u001B[1;32mIn [23]\u001B[0m, in \u001B[0;36m<cell line: 5>\u001B[1;34m()\u001B[0m\n\u001B[0;32m     44\u001B[0m new_ds[\u001B[38;5;124m'\u001B[39m\u001B[38;5;124mseason\u001B[39m\u001B[38;5;124m'\u001B[39m] \u001B[38;5;241m=\u001B[39m new_ds[datetime_name]\u001B[38;5;241m.\u001B[39mdt\u001B[38;5;241m.\u001B[39misocalendar()\u001B[38;5;241m.\u001B[39mweek\n\u001B[0;32m     46\u001B[0m encoding \u001B[38;5;241m=\u001B[39m {\u001B[38;5;124m'\u001B[39m\u001B[38;5;124mfile_path\u001B[39m\u001B[38;5;124m'\u001B[39m: {\u001B[38;5;124m'\u001B[39m\u001B[38;5;124mdtype\u001B[39m\u001B[38;5;124m'\u001B[39m: \u001B[38;5;124m'\u001B[39m\u001B[38;5;124municode\u001B[39m\u001B[38;5;124m'\u001B[39m},\n\u001B[0;32m     47\u001B[0m             \u001B[38;5;124m'\u001B[39m\u001B[38;5;124mstart_sample\u001B[39m\u001B[38;5;124m'\u001B[39m: {\u001B[38;5;124m'\u001B[39m\u001B[38;5;124mdtype\u001B[39m\u001B[38;5;124m'\u001B[39m: \u001B[38;5;28mint\u001B[39m, \u001B[38;5;124m'\u001B[39m\u001B[38;5;124m_FillValue\u001B[39m\u001B[38;5;124m'\u001B[39m: \u001B[38;5;241m-\u001B[39m\u001B[38;5;241m1\u001B[39m},\n\u001B[0;32m     48\u001B[0m             \u001B[38;5;124m'\u001B[39m\u001B[38;5;124mend_sample\u001B[39m\u001B[38;5;124m'\u001B[39m: {\u001B[38;5;124m'\u001B[39m\u001B[38;5;124mdtype\u001B[39m\u001B[38;5;124m'\u001B[39m: \u001B[38;5;28mint\u001B[39m, \u001B[38;5;124m'\u001B[39m\u001B[38;5;124m_FillValue\u001B[39m\u001B[38;5;124m'\u001B[39m: \u001B[38;5;241m-\u001B[39m\u001B[38;5;241m1\u001B[39m},\n\u001B[0;32m     49\u001B[0m             \u001B[38;5;124m'\u001B[39m\u001B[38;5;124mdatetime\u001B[39m\u001B[38;5;124m'\u001B[39m: {\u001B[38;5;124m'\u001B[39m\u001B[38;5;124mdtype\u001B[39m\u001B[38;5;124m'\u001B[39m: \u001B[38;5;28mfloat\u001B[39m, \u001B[38;5;124m'\u001B[39m\u001B[38;5;124m_FillValue\u001B[39m\u001B[38;5;124m'\u001B[39m: \u001B[38;5;241m-\u001B[39m\u001B[38;5;241m1\u001B[39m}}\n\u001B[1;32m---> 50\u001B[0m \u001B[43mnew_ds\u001B[49m\u001B[38;5;241;43m.\u001B[39;49m\u001B[43mto_netcdf\u001B[49m\u001B[43m(\u001B[49m\u001B[43menv_path\u001B[49m\u001B[43m,\u001B[49m\u001B[43m  \u001B[49m\u001B[43mencoding\u001B[49m\u001B[38;5;241;43m=\u001B[39;49m\u001B[43mencoding\u001B[49m\u001B[43m)\u001B[49m\n",
      "File \u001B[1;32m~\\Envs\\sound-data-utils\\lib\\site-packages\\xarray\\core\\dataset.py:1901\u001B[0m, in \u001B[0;36mDataset.to_netcdf\u001B[1;34m(self, path, mode, format, group, engine, encoding, unlimited_dims, compute, invalid_netcdf)\u001B[0m\n\u001B[0;32m   1898\u001B[0m     encoding \u001B[38;5;241m=\u001B[39m {}\n\u001B[0;32m   1899\u001B[0m \u001B[38;5;28;01mfrom\u001B[39;00m \u001B[38;5;21;01m.\u001B[39;00m\u001B[38;5;21;01m.\u001B[39;00m\u001B[38;5;21;01mbackends\u001B[39;00m\u001B[38;5;21;01m.\u001B[39;00m\u001B[38;5;21;01mapi\u001B[39;00m \u001B[38;5;28;01mimport\u001B[39;00m to_netcdf\n\u001B[1;32m-> 1901\u001B[0m \u001B[38;5;28;01mreturn\u001B[39;00m \u001B[43mto_netcdf\u001B[49m\u001B[43m(\u001B[49m\n\u001B[0;32m   1902\u001B[0m \u001B[43m    \u001B[49m\u001B[38;5;28;43mself\u001B[39;49m\u001B[43m,\u001B[49m\n\u001B[0;32m   1903\u001B[0m \u001B[43m    \u001B[49m\u001B[43mpath\u001B[49m\u001B[43m,\u001B[49m\n\u001B[0;32m   1904\u001B[0m \u001B[43m    \u001B[49m\u001B[43mmode\u001B[49m\u001B[43m,\u001B[49m\n\u001B[0;32m   1905\u001B[0m \u001B[43m    \u001B[49m\u001B[38;5;28;43mformat\u001B[39;49m\u001B[38;5;241;43m=\u001B[39;49m\u001B[38;5;28;43mformat\u001B[39;49m\u001B[43m,\u001B[49m\n\u001B[0;32m   1906\u001B[0m \u001B[43m    \u001B[49m\u001B[43mgroup\u001B[49m\u001B[38;5;241;43m=\u001B[39;49m\u001B[43mgroup\u001B[49m\u001B[43m,\u001B[49m\n\u001B[0;32m   1907\u001B[0m \u001B[43m    \u001B[49m\u001B[43mengine\u001B[49m\u001B[38;5;241;43m=\u001B[39;49m\u001B[43mengine\u001B[49m\u001B[43m,\u001B[49m\n\u001B[0;32m   1908\u001B[0m \u001B[43m    \u001B[49m\u001B[43mencoding\u001B[49m\u001B[38;5;241;43m=\u001B[39;49m\u001B[43mencoding\u001B[49m\u001B[43m,\u001B[49m\n\u001B[0;32m   1909\u001B[0m \u001B[43m    \u001B[49m\u001B[43munlimited_dims\u001B[49m\u001B[38;5;241;43m=\u001B[39;49m\u001B[43munlimited_dims\u001B[49m\u001B[43m,\u001B[49m\n\u001B[0;32m   1910\u001B[0m \u001B[43m    \u001B[49m\u001B[43mcompute\u001B[49m\u001B[38;5;241;43m=\u001B[39;49m\u001B[43mcompute\u001B[49m\u001B[43m,\u001B[49m\n\u001B[0;32m   1911\u001B[0m \u001B[43m    \u001B[49m\u001B[43minvalid_netcdf\u001B[49m\u001B[38;5;241;43m=\u001B[39;49m\u001B[43minvalid_netcdf\u001B[49m\u001B[43m,\u001B[49m\n\u001B[0;32m   1912\u001B[0m \u001B[43m\u001B[49m\u001B[43m)\u001B[49m\n",
      "File \u001B[1;32m~\\Envs\\sound-data-utils\\lib\\site-packages\\xarray\\backends\\api.py:1055\u001B[0m, in \u001B[0;36mto_netcdf\u001B[1;34m(dataset, path_or_file, mode, format, group, engine, encoding, unlimited_dims, compute, multifile, invalid_netcdf)\u001B[0m\n\u001B[0;32m   1051\u001B[0m     \u001B[38;5;28;01melse\u001B[39;00m:\n\u001B[0;32m   1052\u001B[0m         \u001B[38;5;28;01mraise\u001B[39;00m \u001B[38;5;167;01mValueError\u001B[39;00m(\n\u001B[0;32m   1053\u001B[0m             \u001B[38;5;124mf\u001B[39m\u001B[38;5;124m\"\u001B[39m\u001B[38;5;124munrecognized option \u001B[39m\u001B[38;5;124m'\u001B[39m\u001B[38;5;124minvalid_netcdf\u001B[39m\u001B[38;5;124m'\u001B[39m\u001B[38;5;124m for engine \u001B[39m\u001B[38;5;132;01m{\u001B[39;00mengine\u001B[38;5;132;01m}\u001B[39;00m\u001B[38;5;124m\"\u001B[39m\n\u001B[0;32m   1054\u001B[0m         )\n\u001B[1;32m-> 1055\u001B[0m store \u001B[38;5;241m=\u001B[39m store_open(target, mode, \u001B[38;5;28mformat\u001B[39m, group, \u001B[38;5;241m*\u001B[39m\u001B[38;5;241m*\u001B[39mkwargs)\n\u001B[0;32m   1057\u001B[0m \u001B[38;5;28;01mif\u001B[39;00m unlimited_dims \u001B[38;5;129;01mis\u001B[39;00m \u001B[38;5;28;01mNone\u001B[39;00m:\n\u001B[0;32m   1058\u001B[0m     unlimited_dims \u001B[38;5;241m=\u001B[39m dataset\u001B[38;5;241m.\u001B[39mencoding\u001B[38;5;241m.\u001B[39mget(\u001B[38;5;124m\"\u001B[39m\u001B[38;5;124munlimited_dims\u001B[39m\u001B[38;5;124m\"\u001B[39m, \u001B[38;5;28;01mNone\u001B[39;00m)\n",
      "File \u001B[1;32m~\\Envs\\sound-data-utils\\lib\\site-packages\\xarray\\backends\\netCDF4_.py:382\u001B[0m, in \u001B[0;36mNetCDF4DataStore.open\u001B[1;34m(cls, filename, mode, format, group, clobber, diskless, persist, lock, lock_maker, autoclose)\u001B[0m\n\u001B[0;32m    376\u001B[0m kwargs \u001B[38;5;241m=\u001B[39m \u001B[38;5;28mdict\u001B[39m(\n\u001B[0;32m    377\u001B[0m     clobber\u001B[38;5;241m=\u001B[39mclobber, diskless\u001B[38;5;241m=\u001B[39mdiskless, persist\u001B[38;5;241m=\u001B[39mpersist, \u001B[38;5;28mformat\u001B[39m\u001B[38;5;241m=\u001B[39m\u001B[38;5;28mformat\u001B[39m\n\u001B[0;32m    378\u001B[0m )\n\u001B[0;32m    379\u001B[0m manager \u001B[38;5;241m=\u001B[39m CachingFileManager(\n\u001B[0;32m    380\u001B[0m     netCDF4\u001B[38;5;241m.\u001B[39mDataset, filename, mode\u001B[38;5;241m=\u001B[39mmode, kwargs\u001B[38;5;241m=\u001B[39mkwargs\n\u001B[0;32m    381\u001B[0m )\n\u001B[1;32m--> 382\u001B[0m \u001B[38;5;28;01mreturn\u001B[39;00m \u001B[38;5;28;43mcls\u001B[39;49m\u001B[43m(\u001B[49m\u001B[43mmanager\u001B[49m\u001B[43m,\u001B[49m\u001B[43m \u001B[49m\u001B[43mgroup\u001B[49m\u001B[38;5;241;43m=\u001B[39;49m\u001B[43mgroup\u001B[49m\u001B[43m,\u001B[49m\u001B[43m \u001B[49m\u001B[43mmode\u001B[49m\u001B[38;5;241;43m=\u001B[39;49m\u001B[43mmode\u001B[49m\u001B[43m,\u001B[49m\u001B[43m \u001B[49m\u001B[43mlock\u001B[49m\u001B[38;5;241;43m=\u001B[39;49m\u001B[43mlock\u001B[49m\u001B[43m,\u001B[49m\u001B[43m \u001B[49m\u001B[43mautoclose\u001B[49m\u001B[38;5;241;43m=\u001B[39;49m\u001B[43mautoclose\u001B[49m\u001B[43m)\u001B[49m\n",
      "File \u001B[1;32m~\\Envs\\sound-data-utils\\lib\\site-packages\\xarray\\backends\\netCDF4_.py:330\u001B[0m, in \u001B[0;36mNetCDF4DataStore.__init__\u001B[1;34m(self, manager, group, mode, lock, autoclose)\u001B[0m\n\u001B[0;32m    328\u001B[0m \u001B[38;5;28mself\u001B[39m\u001B[38;5;241m.\u001B[39m_group \u001B[38;5;241m=\u001B[39m group\n\u001B[0;32m    329\u001B[0m \u001B[38;5;28mself\u001B[39m\u001B[38;5;241m.\u001B[39m_mode \u001B[38;5;241m=\u001B[39m mode\n\u001B[1;32m--> 330\u001B[0m \u001B[38;5;28mself\u001B[39m\u001B[38;5;241m.\u001B[39mformat \u001B[38;5;241m=\u001B[39m \u001B[38;5;28;43mself\u001B[39;49m\u001B[38;5;241;43m.\u001B[39;49m\u001B[43mds\u001B[49m\u001B[38;5;241m.\u001B[39mdata_model\n\u001B[0;32m    331\u001B[0m \u001B[38;5;28mself\u001B[39m\u001B[38;5;241m.\u001B[39m_filename \u001B[38;5;241m=\u001B[39m \u001B[38;5;28mself\u001B[39m\u001B[38;5;241m.\u001B[39mds\u001B[38;5;241m.\u001B[39mfilepath()\n\u001B[0;32m    332\u001B[0m \u001B[38;5;28mself\u001B[39m\u001B[38;5;241m.\u001B[39mis_remote \u001B[38;5;241m=\u001B[39m is_remote_uri(\u001B[38;5;28mself\u001B[39m\u001B[38;5;241m.\u001B[39m_filename)\n",
      "File \u001B[1;32m~\\Envs\\sound-data-utils\\lib\\site-packages\\xarray\\backends\\netCDF4_.py:391\u001B[0m, in \u001B[0;36mNetCDF4DataStore.ds\u001B[1;34m(self)\u001B[0m\n\u001B[0;32m    389\u001B[0m \u001B[38;5;129m@property\u001B[39m\n\u001B[0;32m    390\u001B[0m \u001B[38;5;28;01mdef\u001B[39;00m \u001B[38;5;21mds\u001B[39m(\u001B[38;5;28mself\u001B[39m):\n\u001B[1;32m--> 391\u001B[0m     \u001B[38;5;28;01mreturn\u001B[39;00m \u001B[38;5;28;43mself\u001B[39;49m\u001B[38;5;241;43m.\u001B[39;49m\u001B[43m_acquire\u001B[49m\u001B[43m(\u001B[49m\u001B[43m)\u001B[49m\n",
      "File \u001B[1;32m~\\Envs\\sound-data-utils\\lib\\site-packages\\xarray\\backends\\netCDF4_.py:385\u001B[0m, in \u001B[0;36mNetCDF4DataStore._acquire\u001B[1;34m(self, needs_lock)\u001B[0m\n\u001B[0;32m    384\u001B[0m \u001B[38;5;28;01mdef\u001B[39;00m \u001B[38;5;21m_acquire\u001B[39m(\u001B[38;5;28mself\u001B[39m, needs_lock\u001B[38;5;241m=\u001B[39m\u001B[38;5;28;01mTrue\u001B[39;00m):\n\u001B[1;32m--> 385\u001B[0m     \u001B[38;5;28;01mwith\u001B[39;00m \u001B[38;5;28mself\u001B[39m\u001B[38;5;241m.\u001B[39m_manager\u001B[38;5;241m.\u001B[39macquire_context(needs_lock) \u001B[38;5;28;01mas\u001B[39;00m root:\n\u001B[0;32m    386\u001B[0m         ds \u001B[38;5;241m=\u001B[39m _nc4_require_group(root, \u001B[38;5;28mself\u001B[39m\u001B[38;5;241m.\u001B[39m_group, \u001B[38;5;28mself\u001B[39m\u001B[38;5;241m.\u001B[39m_mode)\n\u001B[0;32m    387\u001B[0m     \u001B[38;5;28;01mreturn\u001B[39;00m ds\n",
      "File \u001B[1;32mC:\\Program Files\\Python39\\lib\\contextlib.py:119\u001B[0m, in \u001B[0;36m_GeneratorContextManager.__enter__\u001B[1;34m(self)\u001B[0m\n\u001B[0;32m    117\u001B[0m \u001B[38;5;28;01mdel\u001B[39;00m \u001B[38;5;28mself\u001B[39m\u001B[38;5;241m.\u001B[39margs, \u001B[38;5;28mself\u001B[39m\u001B[38;5;241m.\u001B[39mkwds, \u001B[38;5;28mself\u001B[39m\u001B[38;5;241m.\u001B[39mfunc\n\u001B[0;32m    118\u001B[0m \u001B[38;5;28;01mtry\u001B[39;00m:\n\u001B[1;32m--> 119\u001B[0m     \u001B[38;5;28;01mreturn\u001B[39;00m \u001B[38;5;28;43mnext\u001B[39;49m\u001B[43m(\u001B[49m\u001B[38;5;28;43mself\u001B[39;49m\u001B[38;5;241;43m.\u001B[39;49m\u001B[43mgen\u001B[49m\u001B[43m)\u001B[49m\n\u001B[0;32m    120\u001B[0m \u001B[38;5;28;01mexcept\u001B[39;00m \u001B[38;5;167;01mStopIteration\u001B[39;00m:\n\u001B[0;32m    121\u001B[0m     \u001B[38;5;28;01mraise\u001B[39;00m \u001B[38;5;167;01mRuntimeError\u001B[39;00m(\u001B[38;5;124m\"\u001B[39m\u001B[38;5;124mgenerator didn\u001B[39m\u001B[38;5;124m'\u001B[39m\u001B[38;5;124mt yield\u001B[39m\u001B[38;5;124m\"\u001B[39m) \u001B[38;5;28;01mfrom\u001B[39;00m \u001B[38;5;28mNone\u001B[39m\n",
      "File \u001B[1;32m~\\Envs\\sound-data-utils\\lib\\site-packages\\xarray\\backends\\file_manager.py:187\u001B[0m, in \u001B[0;36mCachingFileManager.acquire_context\u001B[1;34m(self, needs_lock)\u001B[0m\n\u001B[0;32m    184\u001B[0m \u001B[38;5;129m@contextlib\u001B[39m\u001B[38;5;241m.\u001B[39mcontextmanager\n\u001B[0;32m    185\u001B[0m \u001B[38;5;28;01mdef\u001B[39;00m \u001B[38;5;21macquire_context\u001B[39m(\u001B[38;5;28mself\u001B[39m, needs_lock\u001B[38;5;241m=\u001B[39m\u001B[38;5;28;01mTrue\u001B[39;00m):\n\u001B[0;32m    186\u001B[0m     \u001B[38;5;124;03m\"\"\"Context manager for acquiring a file.\"\"\"\u001B[39;00m\n\u001B[1;32m--> 187\u001B[0m     file, cached \u001B[38;5;241m=\u001B[39m \u001B[38;5;28;43mself\u001B[39;49m\u001B[38;5;241;43m.\u001B[39;49m\u001B[43m_acquire_with_cache_info\u001B[49m\u001B[43m(\u001B[49m\u001B[43mneeds_lock\u001B[49m\u001B[43m)\u001B[49m\n\u001B[0;32m    188\u001B[0m     \u001B[38;5;28;01mtry\u001B[39;00m:\n\u001B[0;32m    189\u001B[0m         \u001B[38;5;28;01myield\u001B[39;00m file\n",
      "File \u001B[1;32m~\\Envs\\sound-data-utils\\lib\\site-packages\\xarray\\backends\\file_manager.py:205\u001B[0m, in \u001B[0;36mCachingFileManager._acquire_with_cache_info\u001B[1;34m(self, needs_lock)\u001B[0m\n\u001B[0;32m    203\u001B[0m     kwargs \u001B[38;5;241m=\u001B[39m kwargs\u001B[38;5;241m.\u001B[39mcopy()\n\u001B[0;32m    204\u001B[0m     kwargs[\u001B[38;5;124m\"\u001B[39m\u001B[38;5;124mmode\u001B[39m\u001B[38;5;124m\"\u001B[39m] \u001B[38;5;241m=\u001B[39m \u001B[38;5;28mself\u001B[39m\u001B[38;5;241m.\u001B[39m_mode\n\u001B[1;32m--> 205\u001B[0m file \u001B[38;5;241m=\u001B[39m \u001B[38;5;28mself\u001B[39m\u001B[38;5;241m.\u001B[39m_opener(\u001B[38;5;241m*\u001B[39m\u001B[38;5;28mself\u001B[39m\u001B[38;5;241m.\u001B[39m_args, \u001B[38;5;241m*\u001B[39m\u001B[38;5;241m*\u001B[39mkwargs)\n\u001B[0;32m    206\u001B[0m \u001B[38;5;28;01mif\u001B[39;00m \u001B[38;5;28mself\u001B[39m\u001B[38;5;241m.\u001B[39m_mode \u001B[38;5;241m==\u001B[39m \u001B[38;5;124m\"\u001B[39m\u001B[38;5;124mw\u001B[39m\u001B[38;5;124m\"\u001B[39m:\n\u001B[0;32m    207\u001B[0m     \u001B[38;5;66;03m# ensure file doesn't get overridden when opened again\u001B[39;00m\n\u001B[0;32m    208\u001B[0m     \u001B[38;5;28mself\u001B[39m\u001B[38;5;241m.\u001B[39m_mode \u001B[38;5;241m=\u001B[39m \u001B[38;5;124m\"\u001B[39m\u001B[38;5;124ma\u001B[39m\u001B[38;5;124m\"\u001B[39m\n",
      "File \u001B[1;32msrc\\netCDF4\\_netCDF4.pyx:2307\u001B[0m, in \u001B[0;36mnetCDF4._netCDF4.Dataset.__init__\u001B[1;34m()\u001B[0m\n",
      "File \u001B[1;32msrc\\netCDF4\\_netCDF4.pyx:1925\u001B[0m, in \u001B[0;36mnetCDF4._netCDF4._ensure_nc_success\u001B[1;34m()\u001B[0m\n",
      "\u001B[1;31mPermissionError\u001B[0m: [Errno 13] Permission denied: b'C:\\\\Users\\\\cleap\\\\Documents\\\\code\\\\categorizing_soundscapes\\\\data\\\\raw_data\\\\data\\\\processed\\\\0_Heinkel 111_env.nc'"
     ]
    }
   ],
   "source": [
    "# Define the seadatamanager\n",
    "manager = bpnsdata.SeaDataManager(env_vars)\n",
    "id_name = 'grouped_id'\n",
    "datetime_name = 'grouped_datetime'\n",
    "for i, row in tqdm(metadata.iterrows(), total=len(metadata)):\n",
    "    deployment_path = raw_data_path.joinpath('deployments', row['deployment_path'])\n",
    "    env_path = raw_data_path.joinpath(processed_data_path, row['deployment_path'].replace('.nc', '_env.nc'))\n",
    "    gps_path = raw_data_path.joinpath('gps', row['gps_path'])\n",
    "\n",
    "    # Read the dataset\n",
    "    ds_deployment = xarray.open_dataset(deployment_path)\n",
    "    ds_deployment = group_ds(ds_deployment, binsize=binsize,\n",
    "                             n_join_bins=n_join_bins, join_bins_overlap=join_bins_overlap)\n",
    "    # Get the time information from the dataset to get a pandas df\n",
    "    datetime_index = ds_deployment[datetime_name].to_index()\n",
    "    df = pd.DataFrame({\"datetime\": datetime_index.values, 'id': ds_deployment[id_name]})\n",
    "    df = df.drop_duplicates(\"datetime\")\n",
    "    print(metadata.iloc[i]['deployment_name'], len(datetime_index), len(df))\n",
    "    df = df.set_index('datetime')\n",
    "    df.index = df.index.tz_localize('UTC')\n",
    "\n",
    "    # Generate the location information\n",
    "    geodf = manager.add_geodata(df, gps_path, time_tolerance='5s')\n",
    "    geodf = manager.survey_location.add_distance_to_coast(geodf, coastfile='//fs/shared/onderzoek'\n",
    "                                                                          '/6. Marine Observation Center/'\n",
    "                                                                          'Projects/PhD_Clea/Data/'\n",
    "                                                                          'bpns_env_data/maps/belgium_coast'\n",
    "                                                                          '/basislijn_BE.shp')\n",
    "    geodf_env = manager(geodf)\n",
    "\n",
    "    # Remove the UTC (xarray does not support it?)\n",
    "    geodf_env.index = geodf_env.index.tz_localize(None)\n",
    "    lat = geodf_env['geometry'].y\n",
    "    lon = geodf_env['geometry'].x\n",
    "    df_env = geodf_env.drop(columns=['geometry', 'id'])\n",
    "    env_ds = df_env.to_xarray()\n",
    "    env_ds = env_ds.assign_coords(coords={'lat': lat, 'lon': lon, id_name : ('datetime', df.id.values)})\n",
    "    env_ds = env_ds.swap_dims({'datetime': id_name})\n",
    "\n",
    "    # Clean the previous if not all computed\n",
    "    if len(env_ds[id_name]) != len(ds_deployment[id_name]):\n",
    "        env_ds = env_ds.reindex_like(ds_deployment)\n",
    "    new_ds = ds_deployment.merge(env_ds, compat=\"override\")\n",
    "    new_ds['season'] = new_ds[datetime_name].dt.isocalendar().week\n",
    "\n",
    "    encoding = {'file_path': {'dtype': 'unicode'},\n",
    "                'start_sample': {'dtype': int, '_FillValue': -1},\n",
    "                'end_sample': {'dtype': int, '_FillValue': -1},\n",
    "                'datetime': {'dtype': float, '_FillValue': -1}}\n",
    "    new_ds.to_netcdf(env_path,  encoding=encoding)"
   ]
  }
 ],
 "metadata": {
  "kernelspec": {
   "display_name": "Python 3 (ipykernel)",
   "language": "python",
   "name": "python3"
  },
  "language_info": {
   "codemirror_mode": {
    "name": "ipython",
    "version": 3
   },
   "file_extension": ".py",
   "mimetype": "text/x-python",
   "name": "python",
   "nbconvert_exporter": "python",
   "pygments_lexer": "ipython3",
   "version": "3.9.13"
  }
 },
 "nbformat": 4,
 "nbformat_minor": 1
}