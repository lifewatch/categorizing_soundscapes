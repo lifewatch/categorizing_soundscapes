{
 "cells": [
  {
   "cell_type": "markdown",
   "source": [
    "# Download the data\n",
    "The data are stored in the Marine Data Archive (https://mda.vliz.be/). You can manually download the dataset to the directory you prefer, and then change the paths in all the notebooks, or you can use this notebook to automatically download it. You first need to register to the Marine Data Archive (MDA) to access the data (https://mda.vliz.be/archive.php). This dataset is just the output pypam after processing all the sound files of all the deployments specified in data/data_summary.csv"
   ],
   "metadata": {
    "collapsed": false
   }
  },
  {
   "cell_type": "code",
   "execution_count": 4,
   "metadata": {},
   "outputs": [],
   "source": [
    "import requests\n",
    "import zipfile\n",
    "import io\n",
    "\n",
    "r = requests.get('https://mda.vliz.be/download.php?file=VLIZ_00000842_63c6adf0d48a5814263705')"
   ]
  },
  {
   "cell_type": "code",
   "execution_count": 5,
   "metadata": {
    "jupyter": {
     "outputs_hidden": false
    }
   },
   "outputs": [],
   "source": [
    "# Write and extract the zip file contents\n",
    "dataset = zipfile.ZipFile(io.BytesIO(r.content))\n",
    "dataset.extractall('./data/raw_data')"
   ]
  },
  {
   "cell_type": "code",
   "execution_count": null,
   "metadata": {
    "jupyter": {
     "outputs_hidden": false
    }
   },
   "outputs": [],
   "source": []
  }
 ],
 "metadata": {
  "kernelspec": {
   "display_name": "Python 3 (ipykernel)",
   "language": "python",
   "name": "python3"
  },
  "language_info": {
   "codemirror_mode": {
    "name": "ipython",
    "version": 3
   },
   "file_extension": ".py",
   "mimetype": "text/x-python",
   "name": "python",
   "nbconvert_exporter": "python",
   "pygments_lexer": "ipython3",
   "version": "3.9.13"
  }
 },
 "nbformat": 4,
 "nbformat_minor": 4
}
